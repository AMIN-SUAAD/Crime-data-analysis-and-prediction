{
 "cells": [
  {
   "cell_type": "code",
   "execution_count": 1,
   "id": "3e092d54",
   "metadata": {
    "id": "3e092d54"
   },
   "outputs": [],
   "source": [
    "import pandas as pd\n",
    "from sklearn.neighbors import KNeighborsClassifier\n",
    "from sklearn.linear_model import LogisticRegression\n",
    "from sklearn.ensemble import RandomForestClassifier\n",
    "from sklearn import svm\n",
    "from sklearn.metrics import classification_report\n",
    "from sklearn.model_selection import train_test_split\n",
    "from imblearn.over_sampling import SMOTE\n",
    "from xgboost import XGBClassifier\n",
    "from yellowbrick.classifier import ClassificationReport\n",
    "from sklearn.model_selection import GridSearchCV\n",
    "from sklearn.metrics import precision_score, recall_score, confusion_matrix, classification_report, accuracy_score, f1_score\n",
    "from yellowbrick.classifier import ClassificationReport"
   ]
  },
  {
   "cell_type": "code",
   "execution_count": 2,
   "id": "a86296c1",
   "metadata": {
    "colab": {
     "base_uri": "https://localhost:8080/",
     "height": 659
    },
    "id": "a86296c1",
    "outputId": "14955e1b-5ef8-4402-f733-46d6c8be1e67"
   },
   "outputs": [
    {
     "data": {
      "text/html": [
       "\n",
       "  <div id=\"df-51308fd3-27cc-42f7-8205-eecb20b54f17\">\n",
       "    <div class=\"colab-df-container\">\n",
       "      <div>\n",
       "<style scoped>\n",
       "    .dataframe tbody tr th:only-of-type {\n",
       "        vertical-align: middle;\n",
       "    }\n",
       "\n",
       "    .dataframe tbody tr th {\n",
       "        vertical-align: top;\n",
       "    }\n",
       "\n",
       "    .dataframe thead th {\n",
       "        text-align: right;\n",
       "    }\n",
       "</style>\n",
       "<table border=\"1\" class=\"dataframe\">\n",
       "  <thead>\n",
       "    <tr style=\"text-align: right;\">\n",
       "      <th></th>\n",
       "      <th>Dates</th>\n",
       "      <th>Category</th>\n",
       "      <th>Descript</th>\n",
       "      <th>DayOfWeek</th>\n",
       "      <th>PdDistrict</th>\n",
       "      <th>Resolution</th>\n",
       "      <th>Address</th>\n",
       "      <th>X</th>\n",
       "      <th>Y</th>\n",
       "      <th>date2</th>\n",
       "      <th>Hour</th>\n",
       "      <th>Month</th>\n",
       "    </tr>\n",
       "  </thead>\n",
       "  <tbody>\n",
       "    <tr>\n",
       "      <th>0</th>\n",
       "      <td>2015-05-13 23:53:00</td>\n",
       "      <td>WARRANTS</td>\n",
       "      <td>WARRANT ARREST</td>\n",
       "      <td>0</td>\n",
       "      <td>0</td>\n",
       "      <td>ARREST, BOOKED</td>\n",
       "      <td>0</td>\n",
       "      <td>-122.425892</td>\n",
       "      <td>37.774599</td>\n",
       "      <td>2015-05-13 23:53:00</td>\n",
       "      <td>23</td>\n",
       "      <td>5</td>\n",
       "    </tr>\n",
       "    <tr>\n",
       "      <th>1</th>\n",
       "      <td>2015-05-13 23:53:00</td>\n",
       "      <td>OTHER OFFENSES</td>\n",
       "      <td>TRAFFIC VIOLATION ARREST</td>\n",
       "      <td>0</td>\n",
       "      <td>0</td>\n",
       "      <td>ARREST, BOOKED</td>\n",
       "      <td>0</td>\n",
       "      <td>-122.425892</td>\n",
       "      <td>37.774599</td>\n",
       "      <td>2015-05-13 23:53:00</td>\n",
       "      <td>23</td>\n",
       "      <td>5</td>\n",
       "    </tr>\n",
       "    <tr>\n",
       "      <th>2</th>\n",
       "      <td>2015-05-13 23:33:00</td>\n",
       "      <td>OTHER OFFENSES</td>\n",
       "      <td>TRAFFIC VIOLATION ARREST</td>\n",
       "      <td>0</td>\n",
       "      <td>0</td>\n",
       "      <td>ARREST, BOOKED</td>\n",
       "      <td>1</td>\n",
       "      <td>-122.424363</td>\n",
       "      <td>37.800414</td>\n",
       "      <td>2015-05-13 23:33:00</td>\n",
       "      <td>23</td>\n",
       "      <td>5</td>\n",
       "    </tr>\n",
       "    <tr>\n",
       "      <th>3</th>\n",
       "      <td>2015-05-13 23:30:00</td>\n",
       "      <td>LARCENY/THEFT</td>\n",
       "      <td>GRAND THEFT FROM LOCKED AUTO</td>\n",
       "      <td>0</td>\n",
       "      <td>0</td>\n",
       "      <td>NONE</td>\n",
       "      <td>2</td>\n",
       "      <td>-122.426995</td>\n",
       "      <td>37.800873</td>\n",
       "      <td>2015-05-13 23:30:00</td>\n",
       "      <td>23</td>\n",
       "      <td>5</td>\n",
       "    </tr>\n",
       "    <tr>\n",
       "      <th>4</th>\n",
       "      <td>2015-05-13 23:30:00</td>\n",
       "      <td>LARCENY/THEFT</td>\n",
       "      <td>GRAND THEFT FROM LOCKED AUTO</td>\n",
       "      <td>0</td>\n",
       "      <td>1</td>\n",
       "      <td>NONE</td>\n",
       "      <td>3</td>\n",
       "      <td>-122.438738</td>\n",
       "      <td>37.771541</td>\n",
       "      <td>2015-05-13 23:30:00</td>\n",
       "      <td>23</td>\n",
       "      <td>5</td>\n",
       "    </tr>\n",
       "    <tr>\n",
       "      <th>...</th>\n",
       "      <td>...</td>\n",
       "      <td>...</td>\n",
       "      <td>...</td>\n",
       "      <td>...</td>\n",
       "      <td>...</td>\n",
       "      <td>...</td>\n",
       "      <td>...</td>\n",
       "      <td>...</td>\n",
       "      <td>...</td>\n",
       "      <td>...</td>\n",
       "      <td>...</td>\n",
       "      <td>...</td>\n",
       "    </tr>\n",
       "    <tr>\n",
       "      <th>878044</th>\n",
       "      <td>2003-01-06 00:15:00</td>\n",
       "      <td>ROBBERY</td>\n",
       "      <td>ROBBERY ON THE STREET WITH A GUN</td>\n",
       "      <td>2</td>\n",
       "      <td>6</td>\n",
       "      <td>NONE</td>\n",
       "      <td>16120</td>\n",
       "      <td>-122.459033</td>\n",
       "      <td>37.714056</td>\n",
       "      <td>2003-01-06 00:15:00</td>\n",
       "      <td>0</td>\n",
       "      <td>1</td>\n",
       "    </tr>\n",
       "    <tr>\n",
       "      <th>878045</th>\n",
       "      <td>2003-01-06 00:01:00</td>\n",
       "      <td>LARCENY/THEFT</td>\n",
       "      <td>GRAND THEFT FROM LOCKED AUTO</td>\n",
       "      <td>2</td>\n",
       "      <td>2</td>\n",
       "      <td>NONE</td>\n",
       "      <td>13577</td>\n",
       "      <td>-122.447364</td>\n",
       "      <td>37.731948</td>\n",
       "      <td>2003-01-06 00:01:00</td>\n",
       "      <td>0</td>\n",
       "      <td>1</td>\n",
       "    </tr>\n",
       "    <tr>\n",
       "      <th>878046</th>\n",
       "      <td>2003-01-06 00:01:00</td>\n",
       "      <td>LARCENY/THEFT</td>\n",
       "      <td>GRAND THEFT FROM LOCKED AUTO</td>\n",
       "      <td>2</td>\n",
       "      <td>9</td>\n",
       "      <td>NONE</td>\n",
       "      <td>4417</td>\n",
       "      <td>-122.403390</td>\n",
       "      <td>37.780266</td>\n",
       "      <td>2003-01-06 00:01:00</td>\n",
       "      <td>0</td>\n",
       "      <td>1</td>\n",
       "    </tr>\n",
       "    <tr>\n",
       "      <th>878047</th>\n",
       "      <td>2003-01-06 00:01:00</td>\n",
       "      <td>VANDALISM</td>\n",
       "      <td>MALICIOUS MISCHIEF, VANDALISM OF VEHICLES</td>\n",
       "      <td>2</td>\n",
       "      <td>9</td>\n",
       "      <td>NONE</td>\n",
       "      <td>2093</td>\n",
       "      <td>-122.390531</td>\n",
       "      <td>37.780607</td>\n",
       "      <td>2003-01-06 00:01:00</td>\n",
       "      <td>0</td>\n",
       "      <td>1</td>\n",
       "    </tr>\n",
       "    <tr>\n",
       "      <th>878048</th>\n",
       "      <td>2003-01-06 00:01:00</td>\n",
       "      <td>FORGERY/COUNTERFEITING</td>\n",
       "      <td>CHECKS, FORGERY (FELONY)</td>\n",
       "      <td>2</td>\n",
       "      <td>3</td>\n",
       "      <td>NONE</td>\n",
       "      <td>22104</td>\n",
       "      <td>-122.394926</td>\n",
       "      <td>37.738212</td>\n",
       "      <td>2003-01-06 00:01:00</td>\n",
       "      <td>0</td>\n",
       "      <td>1</td>\n",
       "    </tr>\n",
       "  </tbody>\n",
       "</table>\n",
       "<p>878049 rows × 12 columns</p>\n",
       "</div>\n",
       "      <button class=\"colab-df-convert\" onclick=\"convertToInteractive('df-51308fd3-27cc-42f7-8205-eecb20b54f17')\"\n",
       "              title=\"Convert this dataframe to an interactive table.\"\n",
       "              style=\"display:none;\">\n",
       "        \n",
       "  <svg xmlns=\"http://www.w3.org/2000/svg\" height=\"24px\"viewBox=\"0 0 24 24\"\n",
       "       width=\"24px\">\n",
       "    <path d=\"M0 0h24v24H0V0z\" fill=\"none\"/>\n",
       "    <path d=\"M18.56 5.44l.94 2.06.94-2.06 2.06-.94-2.06-.94-.94-2.06-.94 2.06-2.06.94zm-11 1L8.5 8.5l.94-2.06 2.06-.94-2.06-.94L8.5 2.5l-.94 2.06-2.06.94zm10 10l.94 2.06.94-2.06 2.06-.94-2.06-.94-.94-2.06-.94 2.06-2.06.94z\"/><path d=\"M17.41 7.96l-1.37-1.37c-.4-.4-.92-.59-1.43-.59-.52 0-1.04.2-1.43.59L10.3 9.45l-7.72 7.72c-.78.78-.78 2.05 0 2.83L4 21.41c.39.39.9.59 1.41.59.51 0 1.02-.2 1.41-.59l7.78-7.78 2.81-2.81c.8-.78.8-2.07 0-2.86zM5.41 20L4 18.59l7.72-7.72 1.47 1.35L5.41 20z\"/>\n",
       "  </svg>\n",
       "      </button>\n",
       "      \n",
       "  <style>\n",
       "    .colab-df-container {\n",
       "      display:flex;\n",
       "      flex-wrap:wrap;\n",
       "      gap: 12px;\n",
       "    }\n",
       "\n",
       "    .colab-df-convert {\n",
       "      background-color: #E8F0FE;\n",
       "      border: none;\n",
       "      border-radius: 50%;\n",
       "      cursor: pointer;\n",
       "      display: none;\n",
       "      fill: #1967D2;\n",
       "      height: 32px;\n",
       "      padding: 0 0 0 0;\n",
       "      width: 32px;\n",
       "    }\n",
       "\n",
       "    .colab-df-convert:hover {\n",
       "      background-color: #E2EBFA;\n",
       "      box-shadow: 0px 1px 2px rgba(60, 64, 67, 0.3), 0px 1px 3px 1px rgba(60, 64, 67, 0.15);\n",
       "      fill: #174EA6;\n",
       "    }\n",
       "\n",
       "    [theme=dark] .colab-df-convert {\n",
       "      background-color: #3B4455;\n",
       "      fill: #D2E3FC;\n",
       "    }\n",
       "\n",
       "    [theme=dark] .colab-df-convert:hover {\n",
       "      background-color: #434B5C;\n",
       "      box-shadow: 0px 1px 3px 1px rgba(0, 0, 0, 0.15);\n",
       "      filter: drop-shadow(0px 1px 2px rgba(0, 0, 0, 0.3));\n",
       "      fill: #FFFFFF;\n",
       "    }\n",
       "  </style>\n",
       "\n",
       "      <script>\n",
       "        const buttonEl =\n",
       "          document.querySelector('#df-51308fd3-27cc-42f7-8205-eecb20b54f17 button.colab-df-convert');\n",
       "        buttonEl.style.display =\n",
       "          google.colab.kernel.accessAllowed ? 'block' : 'none';\n",
       "\n",
       "        async function convertToInteractive(key) {\n",
       "          const element = document.querySelector('#df-51308fd3-27cc-42f7-8205-eecb20b54f17');\n",
       "          const dataTable =\n",
       "            await google.colab.kernel.invokeFunction('convertToInteractive',\n",
       "                                                     [key], {});\n",
       "          if (!dataTable) return;\n",
       "\n",
       "          const docLinkHtml = 'Like what you see? Visit the ' +\n",
       "            '<a target=\"_blank\" href=https://colab.research.google.com/notebooks/data_table.ipynb>data table notebook</a>'\n",
       "            + ' to learn more about interactive tables.';\n",
       "          element.innerHTML = '';\n",
       "          dataTable['output_type'] = 'display_data';\n",
       "          await google.colab.output.renderOutput(dataTable, element);\n",
       "          const docLink = document.createElement('div');\n",
       "          docLink.innerHTML = docLinkHtml;\n",
       "          element.appendChild(docLink);\n",
       "        }\n",
       "      </script>\n",
       "    </div>\n",
       "  </div>\n",
       "  "
      ],
      "text/plain": [
       "                     Dates                Category  \\\n",
       "0      2015-05-13 23:53:00                WARRANTS   \n",
       "1      2015-05-13 23:53:00          OTHER OFFENSES   \n",
       "2      2015-05-13 23:33:00          OTHER OFFENSES   \n",
       "3      2015-05-13 23:30:00           LARCENY/THEFT   \n",
       "4      2015-05-13 23:30:00           LARCENY/THEFT   \n",
       "...                    ...                     ...   \n",
       "878044 2003-01-06 00:15:00                 ROBBERY   \n",
       "878045 2003-01-06 00:01:00           LARCENY/THEFT   \n",
       "878046 2003-01-06 00:01:00           LARCENY/THEFT   \n",
       "878047 2003-01-06 00:01:00               VANDALISM   \n",
       "878048 2003-01-06 00:01:00  FORGERY/COUNTERFEITING   \n",
       "\n",
       "                                         Descript  DayOfWeek  PdDistrict  \\\n",
       "0                                  WARRANT ARREST          0           0   \n",
       "1                        TRAFFIC VIOLATION ARREST          0           0   \n",
       "2                        TRAFFIC VIOLATION ARREST          0           0   \n",
       "3                    GRAND THEFT FROM LOCKED AUTO          0           0   \n",
       "4                    GRAND THEFT FROM LOCKED AUTO          0           1   \n",
       "...                                           ...        ...         ...   \n",
       "878044           ROBBERY ON THE STREET WITH A GUN          2           6   \n",
       "878045               GRAND THEFT FROM LOCKED AUTO          2           2   \n",
       "878046               GRAND THEFT FROM LOCKED AUTO          2           9   \n",
       "878047  MALICIOUS MISCHIEF, VANDALISM OF VEHICLES          2           9   \n",
       "878048                   CHECKS, FORGERY (FELONY)          2           3   \n",
       "\n",
       "            Resolution  Address           X          Y               date2  \\\n",
       "0       ARREST, BOOKED        0 -122.425892  37.774599 2015-05-13 23:53:00   \n",
       "1       ARREST, BOOKED        0 -122.425892  37.774599 2015-05-13 23:53:00   \n",
       "2       ARREST, BOOKED        1 -122.424363  37.800414 2015-05-13 23:33:00   \n",
       "3                 NONE        2 -122.426995  37.800873 2015-05-13 23:30:00   \n",
       "4                 NONE        3 -122.438738  37.771541 2015-05-13 23:30:00   \n",
       "...                ...      ...         ...        ...                 ...   \n",
       "878044            NONE    16120 -122.459033  37.714056 2003-01-06 00:15:00   \n",
       "878045            NONE    13577 -122.447364  37.731948 2003-01-06 00:01:00   \n",
       "878046            NONE     4417 -122.403390  37.780266 2003-01-06 00:01:00   \n",
       "878047            NONE     2093 -122.390531  37.780607 2003-01-06 00:01:00   \n",
       "878048            NONE    22104 -122.394926  37.738212 2003-01-06 00:01:00   \n",
       "\n",
       "        Hour  Month  \n",
       "0         23      5  \n",
       "1         23      5  \n",
       "2         23      5  \n",
       "3         23      5  \n",
       "4         23      5  \n",
       "...      ...    ...  \n",
       "878044     0      1  \n",
       "878045     0      1  \n",
       "878046     0      1  \n",
       "878047     0      1  \n",
       "878048     0      1  \n",
       "\n",
       "[878049 rows x 12 columns]"
      ]
     },
     "execution_count": 2,
     "metadata": {},
     "output_type": "execute_result"
    }
   ],
   "source": [
    "df = pd.read_csv('/content/train.csv', parse_dates=['Dates'])\n",
    "df = df.dropna()\n",
    "df['date2'] = pd.to_datetime(df['Dates'])\n",
    "df['Hour'] = df['date2'].dt.hour\n",
    "df['Month'] = df['date2'].dt.month\n",
    "df['Address'] = pd.factorize(df[\"Address\"])[0]\n",
    "df['PdDistrict'] = pd.factorize(df[\"PdDistrict\"])[0]\n",
    "df['DayOfWeek'] = pd.factorize(df[\"DayOfWeek\"])[0]\n",
    "df"
   ]
  },
  {
   "cell_type": "code",
   "execution_count": 3,
   "id": "f99e8ba4",
   "metadata": {
    "id": "f99e8ba4"
   },
   "outputs": [],
   "source": [
    "def correct_coordinates(district):\n",
    "    tmp = df[df[\"PdDistrict\"] == district]\n",
    "    x_avg = tmp.X.mean()\n",
    "    y_avg = tmp.Y.mean()\n",
    "    return([x_avg,y_avg])\n",
    "\n",
    "index_to_correct = df[(df[\"X\"] > -121)|(df[\"Y\"] > 50)].index\n",
    "\n",
    "for i in index_to_correct:\n",
    "    tmp = correct_coordinates(df.loc[i,\"PdDistrict\"])\n",
    "    x = tmp[0]\n",
    "    y = tmp[1]\n",
    "    df.loc[i,\"X\"] = x \n",
    "    df.loc[i,\"Y\"] = y"
   ]
  },
  {
   "cell_type": "code",
   "execution_count": 4,
   "id": "401ed09d",
   "metadata": {
    "colab": {
     "base_uri": "https://localhost:8080/",
     "height": 659
    },
    "id": "401ed09d",
    "outputId": "0d266ad8-80cb-4627-a2cc-a86412fff9cb"
   },
   "outputs": [
    {
     "data": {
      "text/html": [
       "\n",
       "  <div id=\"df-048006dc-03b9-409e-91d0-042797610b67\">\n",
       "    <div class=\"colab-df-container\">\n",
       "      <div>\n",
       "<style scoped>\n",
       "    .dataframe tbody tr th:only-of-type {\n",
       "        vertical-align: middle;\n",
       "    }\n",
       "\n",
       "    .dataframe tbody tr th {\n",
       "        vertical-align: top;\n",
       "    }\n",
       "\n",
       "    .dataframe thead th {\n",
       "        text-align: right;\n",
       "    }\n",
       "</style>\n",
       "<table border=\"1\" class=\"dataframe\">\n",
       "  <thead>\n",
       "    <tr style=\"text-align: right;\">\n",
       "      <th></th>\n",
       "      <th>Dates</th>\n",
       "      <th>Category</th>\n",
       "      <th>Descript</th>\n",
       "      <th>DayOfWeek</th>\n",
       "      <th>PdDistrict</th>\n",
       "      <th>Resolution</th>\n",
       "      <th>Address</th>\n",
       "      <th>X</th>\n",
       "      <th>Y</th>\n",
       "      <th>date2</th>\n",
       "      <th>Hour</th>\n",
       "      <th>Month</th>\n",
       "    </tr>\n",
       "  </thead>\n",
       "  <tbody>\n",
       "    <tr>\n",
       "      <th>0</th>\n",
       "      <td>2015-05-13 23:53:00</td>\n",
       "      <td>WARRANTS</td>\n",
       "      <td>WARRANT ARREST</td>\n",
       "      <td>0</td>\n",
       "      <td>0</td>\n",
       "      <td>ARREST, BOOKED</td>\n",
       "      <td>0</td>\n",
       "      <td>-122.425892</td>\n",
       "      <td>37.774599</td>\n",
       "      <td>2015-05-13 23:53:00</td>\n",
       "      <td>23</td>\n",
       "      <td>5</td>\n",
       "    </tr>\n",
       "    <tr>\n",
       "      <th>1</th>\n",
       "      <td>2015-05-13 23:53:00</td>\n",
       "      <td>OTHER OFFENSES</td>\n",
       "      <td>TRAFFIC VIOLATION ARREST</td>\n",
       "      <td>0</td>\n",
       "      <td>0</td>\n",
       "      <td>ARREST, BOOKED</td>\n",
       "      <td>0</td>\n",
       "      <td>-122.425892</td>\n",
       "      <td>37.774599</td>\n",
       "      <td>2015-05-13 23:53:00</td>\n",
       "      <td>23</td>\n",
       "      <td>5</td>\n",
       "    </tr>\n",
       "    <tr>\n",
       "      <th>2</th>\n",
       "      <td>2015-05-13 23:33:00</td>\n",
       "      <td>OTHER OFFENSES</td>\n",
       "      <td>TRAFFIC VIOLATION ARREST</td>\n",
       "      <td>0</td>\n",
       "      <td>0</td>\n",
       "      <td>ARREST, BOOKED</td>\n",
       "      <td>1</td>\n",
       "      <td>-122.424363</td>\n",
       "      <td>37.800414</td>\n",
       "      <td>2015-05-13 23:33:00</td>\n",
       "      <td>23</td>\n",
       "      <td>5</td>\n",
       "    </tr>\n",
       "    <tr>\n",
       "      <th>3</th>\n",
       "      <td>2015-05-13 23:30:00</td>\n",
       "      <td>LARCENY/THEFT</td>\n",
       "      <td>GRAND THEFT FROM LOCKED AUTO</td>\n",
       "      <td>0</td>\n",
       "      <td>0</td>\n",
       "      <td>NONE</td>\n",
       "      <td>2</td>\n",
       "      <td>-122.426995</td>\n",
       "      <td>37.800873</td>\n",
       "      <td>2015-05-13 23:30:00</td>\n",
       "      <td>23</td>\n",
       "      <td>5</td>\n",
       "    </tr>\n",
       "    <tr>\n",
       "      <th>4</th>\n",
       "      <td>2015-05-13 23:30:00</td>\n",
       "      <td>LARCENY/THEFT</td>\n",
       "      <td>GRAND THEFT FROM LOCKED AUTO</td>\n",
       "      <td>0</td>\n",
       "      <td>1</td>\n",
       "      <td>NONE</td>\n",
       "      <td>3</td>\n",
       "      <td>-122.438738</td>\n",
       "      <td>37.771541</td>\n",
       "      <td>2015-05-13 23:30:00</td>\n",
       "      <td>23</td>\n",
       "      <td>5</td>\n",
       "    </tr>\n",
       "    <tr>\n",
       "      <th>...</th>\n",
       "      <td>...</td>\n",
       "      <td>...</td>\n",
       "      <td>...</td>\n",
       "      <td>...</td>\n",
       "      <td>...</td>\n",
       "      <td>...</td>\n",
       "      <td>...</td>\n",
       "      <td>...</td>\n",
       "      <td>...</td>\n",
       "      <td>...</td>\n",
       "      <td>...</td>\n",
       "      <td>...</td>\n",
       "    </tr>\n",
       "    <tr>\n",
       "      <th>878044</th>\n",
       "      <td>2003-01-06 00:15:00</td>\n",
       "      <td>ROBBERY</td>\n",
       "      <td>ROBBERY ON THE STREET WITH A GUN</td>\n",
       "      <td>2</td>\n",
       "      <td>6</td>\n",
       "      <td>NONE</td>\n",
       "      <td>16120</td>\n",
       "      <td>-122.459033</td>\n",
       "      <td>37.714056</td>\n",
       "      <td>2003-01-06 00:15:00</td>\n",
       "      <td>0</td>\n",
       "      <td>1</td>\n",
       "    </tr>\n",
       "    <tr>\n",
       "      <th>878045</th>\n",
       "      <td>2003-01-06 00:01:00</td>\n",
       "      <td>LARCENY/THEFT</td>\n",
       "      <td>GRAND THEFT FROM LOCKED AUTO</td>\n",
       "      <td>2</td>\n",
       "      <td>2</td>\n",
       "      <td>NONE</td>\n",
       "      <td>13577</td>\n",
       "      <td>-122.447364</td>\n",
       "      <td>37.731948</td>\n",
       "      <td>2003-01-06 00:01:00</td>\n",
       "      <td>0</td>\n",
       "      <td>1</td>\n",
       "    </tr>\n",
       "    <tr>\n",
       "      <th>878046</th>\n",
       "      <td>2003-01-06 00:01:00</td>\n",
       "      <td>LARCENY/THEFT</td>\n",
       "      <td>GRAND THEFT FROM LOCKED AUTO</td>\n",
       "      <td>2</td>\n",
       "      <td>9</td>\n",
       "      <td>NONE</td>\n",
       "      <td>4417</td>\n",
       "      <td>-122.403390</td>\n",
       "      <td>37.780266</td>\n",
       "      <td>2003-01-06 00:01:00</td>\n",
       "      <td>0</td>\n",
       "      <td>1</td>\n",
       "    </tr>\n",
       "    <tr>\n",
       "      <th>878047</th>\n",
       "      <td>2003-01-06 00:01:00</td>\n",
       "      <td>VANDALISM</td>\n",
       "      <td>MALICIOUS MISCHIEF, VANDALISM OF VEHICLES</td>\n",
       "      <td>2</td>\n",
       "      <td>9</td>\n",
       "      <td>NONE</td>\n",
       "      <td>2093</td>\n",
       "      <td>-122.390531</td>\n",
       "      <td>37.780607</td>\n",
       "      <td>2003-01-06 00:01:00</td>\n",
       "      <td>0</td>\n",
       "      <td>1</td>\n",
       "    </tr>\n",
       "    <tr>\n",
       "      <th>878048</th>\n",
       "      <td>2003-01-06 00:01:00</td>\n",
       "      <td>FORGERY/COUNTERFEITING</td>\n",
       "      <td>CHECKS, FORGERY (FELONY)</td>\n",
       "      <td>2</td>\n",
       "      <td>3</td>\n",
       "      <td>NONE</td>\n",
       "      <td>22104</td>\n",
       "      <td>-122.394926</td>\n",
       "      <td>37.738212</td>\n",
       "      <td>2003-01-06 00:01:00</td>\n",
       "      <td>0</td>\n",
       "      <td>1</td>\n",
       "    </tr>\n",
       "  </tbody>\n",
       "</table>\n",
       "<p>878049 rows × 12 columns</p>\n",
       "</div>\n",
       "      <button class=\"colab-df-convert\" onclick=\"convertToInteractive('df-048006dc-03b9-409e-91d0-042797610b67')\"\n",
       "              title=\"Convert this dataframe to an interactive table.\"\n",
       "              style=\"display:none;\">\n",
       "        \n",
       "  <svg xmlns=\"http://www.w3.org/2000/svg\" height=\"24px\"viewBox=\"0 0 24 24\"\n",
       "       width=\"24px\">\n",
       "    <path d=\"M0 0h24v24H0V0z\" fill=\"none\"/>\n",
       "    <path d=\"M18.56 5.44l.94 2.06.94-2.06 2.06-.94-2.06-.94-.94-2.06-.94 2.06-2.06.94zm-11 1L8.5 8.5l.94-2.06 2.06-.94-2.06-.94L8.5 2.5l-.94 2.06-2.06.94zm10 10l.94 2.06.94-2.06 2.06-.94-2.06-.94-.94-2.06-.94 2.06-2.06.94z\"/><path d=\"M17.41 7.96l-1.37-1.37c-.4-.4-.92-.59-1.43-.59-.52 0-1.04.2-1.43.59L10.3 9.45l-7.72 7.72c-.78.78-.78 2.05 0 2.83L4 21.41c.39.39.9.59 1.41.59.51 0 1.02-.2 1.41-.59l7.78-7.78 2.81-2.81c.8-.78.8-2.07 0-2.86zM5.41 20L4 18.59l7.72-7.72 1.47 1.35L5.41 20z\"/>\n",
       "  </svg>\n",
       "      </button>\n",
       "      \n",
       "  <style>\n",
       "    .colab-df-container {\n",
       "      display:flex;\n",
       "      flex-wrap:wrap;\n",
       "      gap: 12px;\n",
       "    }\n",
       "\n",
       "    .colab-df-convert {\n",
       "      background-color: #E8F0FE;\n",
       "      border: none;\n",
       "      border-radius: 50%;\n",
       "      cursor: pointer;\n",
       "      display: none;\n",
       "      fill: #1967D2;\n",
       "      height: 32px;\n",
       "      padding: 0 0 0 0;\n",
       "      width: 32px;\n",
       "    }\n",
       "\n",
       "    .colab-df-convert:hover {\n",
       "      background-color: #E2EBFA;\n",
       "      box-shadow: 0px 1px 2px rgba(60, 64, 67, 0.3), 0px 1px 3px 1px rgba(60, 64, 67, 0.15);\n",
       "      fill: #174EA6;\n",
       "    }\n",
       "\n",
       "    [theme=dark] .colab-df-convert {\n",
       "      background-color: #3B4455;\n",
       "      fill: #D2E3FC;\n",
       "    }\n",
       "\n",
       "    [theme=dark] .colab-df-convert:hover {\n",
       "      background-color: #434B5C;\n",
       "      box-shadow: 0px 1px 3px 1px rgba(0, 0, 0, 0.15);\n",
       "      filter: drop-shadow(0px 1px 2px rgba(0, 0, 0, 0.3));\n",
       "      fill: #FFFFFF;\n",
       "    }\n",
       "  </style>\n",
       "\n",
       "      <script>\n",
       "        const buttonEl =\n",
       "          document.querySelector('#df-048006dc-03b9-409e-91d0-042797610b67 button.colab-df-convert');\n",
       "        buttonEl.style.display =\n",
       "          google.colab.kernel.accessAllowed ? 'block' : 'none';\n",
       "\n",
       "        async function convertToInteractive(key) {\n",
       "          const element = document.querySelector('#df-048006dc-03b9-409e-91d0-042797610b67');\n",
       "          const dataTable =\n",
       "            await google.colab.kernel.invokeFunction('convertToInteractive',\n",
       "                                                     [key], {});\n",
       "          if (!dataTable) return;\n",
       "\n",
       "          const docLinkHtml = 'Like what you see? Visit the ' +\n",
       "            '<a target=\"_blank\" href=https://colab.research.google.com/notebooks/data_table.ipynb>data table notebook</a>'\n",
       "            + ' to learn more about interactive tables.';\n",
       "          element.innerHTML = '';\n",
       "          dataTable['output_type'] = 'display_data';\n",
       "          await google.colab.output.renderOutput(dataTable, element);\n",
       "          const docLink = document.createElement('div');\n",
       "          docLink.innerHTML = docLinkHtml;\n",
       "          element.appendChild(docLink);\n",
       "        }\n",
       "      </script>\n",
       "    </div>\n",
       "  </div>\n",
       "  "
      ],
      "text/plain": [
       "                     Dates                Category  \\\n",
       "0      2015-05-13 23:53:00                WARRANTS   \n",
       "1      2015-05-13 23:53:00          OTHER OFFENSES   \n",
       "2      2015-05-13 23:33:00          OTHER OFFENSES   \n",
       "3      2015-05-13 23:30:00           LARCENY/THEFT   \n",
       "4      2015-05-13 23:30:00           LARCENY/THEFT   \n",
       "...                    ...                     ...   \n",
       "878044 2003-01-06 00:15:00                 ROBBERY   \n",
       "878045 2003-01-06 00:01:00           LARCENY/THEFT   \n",
       "878046 2003-01-06 00:01:00           LARCENY/THEFT   \n",
       "878047 2003-01-06 00:01:00               VANDALISM   \n",
       "878048 2003-01-06 00:01:00  FORGERY/COUNTERFEITING   \n",
       "\n",
       "                                         Descript  DayOfWeek  PdDistrict  \\\n",
       "0                                  WARRANT ARREST          0           0   \n",
       "1                        TRAFFIC VIOLATION ARREST          0           0   \n",
       "2                        TRAFFIC VIOLATION ARREST          0           0   \n",
       "3                    GRAND THEFT FROM LOCKED AUTO          0           0   \n",
       "4                    GRAND THEFT FROM LOCKED AUTO          0           1   \n",
       "...                                           ...        ...         ...   \n",
       "878044           ROBBERY ON THE STREET WITH A GUN          2           6   \n",
       "878045               GRAND THEFT FROM LOCKED AUTO          2           2   \n",
       "878046               GRAND THEFT FROM LOCKED AUTO          2           9   \n",
       "878047  MALICIOUS MISCHIEF, VANDALISM OF VEHICLES          2           9   \n",
       "878048                   CHECKS, FORGERY (FELONY)          2           3   \n",
       "\n",
       "            Resolution  Address           X          Y               date2  \\\n",
       "0       ARREST, BOOKED        0 -122.425892  37.774599 2015-05-13 23:53:00   \n",
       "1       ARREST, BOOKED        0 -122.425892  37.774599 2015-05-13 23:53:00   \n",
       "2       ARREST, BOOKED        1 -122.424363  37.800414 2015-05-13 23:33:00   \n",
       "3                 NONE        2 -122.426995  37.800873 2015-05-13 23:30:00   \n",
       "4                 NONE        3 -122.438738  37.771541 2015-05-13 23:30:00   \n",
       "...                ...      ...         ...        ...                 ...   \n",
       "878044            NONE    16120 -122.459033  37.714056 2003-01-06 00:15:00   \n",
       "878045            NONE    13577 -122.447364  37.731948 2003-01-06 00:01:00   \n",
       "878046            NONE     4417 -122.403390  37.780266 2003-01-06 00:01:00   \n",
       "878047            NONE     2093 -122.390531  37.780607 2003-01-06 00:01:00   \n",
       "878048            NONE    22104 -122.394926  37.738212 2003-01-06 00:01:00   \n",
       "\n",
       "        Hour  Month  \n",
       "0         23      5  \n",
       "1         23      5  \n",
       "2         23      5  \n",
       "3         23      5  \n",
       "4         23      5  \n",
       "...      ...    ...  \n",
       "878044     0      1  \n",
       "878045     0      1  \n",
       "878046     0      1  \n",
       "878047     0      1  \n",
       "878048     0      1  \n",
       "\n",
       "[878049 rows x 12 columns]"
      ]
     },
     "execution_count": 4,
     "metadata": {},
     "output_type": "execute_result"
    }
   ],
   "source": [
    "df"
   ]
  },
  {
   "cell_type": "code",
   "execution_count": 5,
   "id": "ff16862e",
   "metadata": {
    "id": "ff16862e"
   },
   "outputs": [],
   "source": [
    "train, test = train_test_split(df, \n",
    "                        test_size = 0.2, \n",
    "                        train_size = 0.8, \n",
    "                        random_state= 3)"
   ]
  },
  {
   "cell_type": "code",
   "execution_count": 6,
   "id": "5ac2b54d",
   "metadata": {
    "id": "5ac2b54d"
   },
   "outputs": [],
   "source": [
    "data_dict = {'WARRANTS': 1,\n",
    "             'OTHER OFFENSES': 0,\n",
    "             'LARCENY/THEFT': 1,\n",
    "             'VEHICLE THEFT': 1,\n",
    "             'VANDALISM': 1,\n",
    "             'NON-CRIMINAL': 0,\n",
    "             'ROBBERY': 1,\n",
    "             'ASSAULT': 1,\n",
    "             'WEAPON LAWS': 1,\n",
    "             'BURGLARY': 1,\n",
    "             'SUSPICIOUS OCC': 0,\n",
    "             'DRUNKENNESS': 0,\n",
    "             'FORGERY/COUNTERFEITING': 1,\n",
    "             'DRUG/NARCOTIC': 1,\n",
    "             'STOLEN PROPERTY': 1,\n",
    "             'SECONDARY CODES': 0,\n",
    "             'TRESPASS': 0,\n",
    "             'MISSING PERSON': 1,\n",
    "             'FRAUD': 1,\n",
    "             'KIDNAPPING': 1,\n",
    "             'RUNAWAY': 0,\n",
    "             'DRIVING UNDER THE INFLUENCE': 0,\n",
    "             'SEX OFFENSES FORCIBLE': 1,\n",
    "             'PROSTITUTION': 0,\n",
    "             'DISORDERLY CONDUCT': 0,\n",
    "             'ARSON': 1,\n",
    "             'FAMILY OFFENSES': 1,\n",
    "             'LIQUOR LAWS': 0,\n",
    "             'BRIBERY': 1,\n",
    "             'EMBEZZLEMENT': 0,\n",
    "             'SUICIDE': 1,\n",
    "             'LOITERING': 0,\n",
    "             'SEX OFFENSES NON FORCIBLE': 0,\n",
    "             'EXTORTION': 1,\n",
    "             'GAMBLING': 0,\n",
    "             'BAD CHECKS': 0,\n",
    "             'TREA': 0,\n",
    "             'RECOVERED VEHICLE': 0,\n",
    "             'PORNOGRAPHY/OBSCENE MAT': 0}"
   ]
  },
  {
   "cell_type": "code",
   "execution_count": 7,
   "id": "3d9f9976",
   "metadata": {
    "id": "3d9f9976"
   },
   "outputs": [],
   "source": [
    "train[\"Category\"] = train[\"Category\"].replace(data_dict)\n",
    "test[\"Category\"] = test[\"Category\"].replace(data_dict)"
   ]
  },
  {
   "cell_type": "code",
   "execution_count": 8,
   "id": "d2e869a6",
   "metadata": {
    "id": "d2e869a6"
   },
   "outputs": [],
   "source": [
    "features = [\"DayOfWeek\", \"X\", \"Y\", \"PdDistrict\"]\n",
    "X_train = train[features]\n",
    "y_train = train[\"Category\"]\n",
    "\n",
    "oversample = SMOTE()\n",
    "X_train, y_train = oversample.fit_resample(X_train, y_train)\n",
    "\n",
    "X_test = test[features]\n",
    "y_test = test[\"Category\"]\n",
    "\n",
    "knn = KNeighborsClassifier()\n",
    "# knn.fit(X_train, y_train)\n",
    "\n",
    "# predictions = knn.predict(X_test)\n",
    "\n",
    "# knn.score(X_train,y_train)   "
   ]
  },
  {
   "cell_type": "code",
   "execution_count": 9,
   "id": "ca00bb77",
   "metadata": {
    "colab": {
     "base_uri": "https://localhost:8080/"
    },
    "id": "ca00bb77",
    "outputId": "4c51de10-f8bf-4a4b-f30f-f4b2ba6a9634"
   },
   "outputs": [
    {
     "name": "stdout",
     "output_type": "stream",
     "text": [
      "Fitting 5 folds for each of 9 candidates, totalling 45 fits\n"
     ]
    }
   ],
   "source": [
    "k_range = list(range(1, 10))\n",
    "param_grid = dict(n_neighbors=k_range)\n",
    "\n",
    "\n",
    "# defining parameter range\n",
    "grid = GridSearchCV(knn, param_grid, cv=5, scoring='accuracy', return_train_score=False,verbose=1)\n",
    "\n",
    "# fitting the model for grid search\n",
    "grid_search=grid.fit(X_train, y_train)"
   ]
  },
  {
   "cell_type": "code",
   "execution_count": 10,
   "id": "93b2e86f",
   "metadata": {
    "colab": {
     "base_uri": "https://localhost:8080/"
    },
    "id": "93b2e86f",
    "outputId": "bdf9eb50-23f5-419a-e4e9-dbc487b675c4"
   },
   "outputs": [
    {
     "name": "stdout",
     "output_type": "stream",
     "text": [
      "{'n_neighbors': 6}\n",
      "Accuracy for our training dataset with tuning is : 59.00%\n"
     ]
    }
   ],
   "source": [
    "print(grid_search.best_params_)\n",
    "\n",
    "accuracy = grid_search.best_score_ *100\n",
    "print(\"Accuracy for our training dataset with tuning is : {:.2f}%\".format(accuracy) )"
   ]
  },
  {
   "cell_type": "code",
   "execution_count": 11,
   "id": "J5PovX1hDcq0",
   "metadata": {
    "colab": {
     "base_uri": "https://localhost:8080/"
    },
    "id": "J5PovX1hDcq0",
    "outputId": "6d5ab3c6-96ee-41ec-98ac-df947fee9829"
   },
   "outputs": [
    {
     "data": {
      "text/plain": [
       "0.6607028232722995"
      ]
     },
     "execution_count": 11,
     "metadata": {},
     "output_type": "execute_result"
    }
   ],
   "source": [
    "knn = KNeighborsClassifier(n_neighbors=6)\n",
    "knn.fit(X_train, y_train)\n",
    "\n",
    "predictions = knn.predict(X_test)\n",
    "\n",
    "knn.score(X_train,y_train)"
   ]
  },
  {
   "cell_type": "code",
   "execution_count": 12,
   "id": "klFxwi3OHXIU",
   "metadata": {
    "colab": {
     "base_uri": "https://localhost:8080/"
    },
    "id": "klFxwi3OHXIU",
    "outputId": "a6453755-c7d1-46ae-e640-640c3b78c504"
   },
   "outputs": [
    {
     "name": "stdout",
     "output_type": "stream",
     "text": [
      "Accuracy    :  0.5780536415921644\n",
      "Recall      :  0.5780536415921644\n",
      "Precision   :  0.5998815977722741\n",
      "F1 Score    :  0.5862503763056842\n",
      "Confusion Matrix: \n",
      "[[28185 30852]\n",
      " [43246 73327]]\n"
     ]
    }
   ],
   "source": [
    "ac_sc = accuracy_score(y_test, predictions)\n",
    "rc_sc = recall_score(y_test, predictions, average=\"weighted\")\n",
    "pr_sc = precision_score(y_test, predictions, average=\"weighted\")\n",
    "f1_sc = f1_score(y_test, predictions, average='weighted')\n",
    "confusion_m = confusion_matrix(y_test, predictions)\n",
    "\n",
    "print(\"Accuracy    : \", ac_sc)\n",
    "print(\"Recall      : \", rc_sc)\n",
    "print(\"Precision   : \", pr_sc)\n",
    "print(\"F1 Score    : \", f1_sc)\n",
    "print(\"Confusion Matrix: \")\n",
    "print(confusion_m)"
   ]
  },
  {
   "cell_type": "code",
   "execution_count": 13,
   "id": "8a6358b2",
   "metadata": {
    "colab": {
     "base_uri": "https://localhost:8080/"
    },
    "id": "8a6358b2",
    "outputId": "dd314f43-5bb3-4399-b3c0-5f512f12241f"
   },
   "outputs": [
    {
     "name": "stdout",
     "output_type": "stream",
     "text": [
      "              precision    recall  f1-score   support\n",
      "\n",
      "           0       0.39      0.48      0.43     59037\n",
      "           1       0.70      0.63      0.66    116573\n",
      "\n",
      "    accuracy                           0.58    175610\n",
      "   macro avg       0.55      0.55      0.55    175610\n",
      "weighted avg       0.60      0.58      0.59    175610\n",
      "\n"
     ]
    }
   ],
   "source": [
    "print(classification_report(y_test, predictions))"
   ]
  },
  {
   "cell_type": "code",
   "execution_count": 14,
   "id": "ZqNtSYz9HTti",
   "metadata": {
    "colab": {
     "base_uri": "https://localhost:8080/",
     "height": 418
    },
    "id": "ZqNtSYz9HTti",
    "outputId": "5e92f12f-903c-433f-b5f5-e4935650e5dd"
   },
   "outputs": [
    {
     "data": {
      "image/png": "[encoded data removed]",
      "text/plain": [
       "<Figure size 576x396 with 2 Axes>"
      ]
     },
     "metadata": {},
     "output_type": "display_data"
    },
    {
     "data": {
      "text/plain": [
       "<matplotlib.axes._subplots.AxesSubplot at 0x7efe68d82790>"
      ]
     },
     "execution_count": 14,
     "metadata": {},
     "output_type": "execute_result"
    }
   ],
   "source": [
    "knn_visualizer = KNeighborsClassifier(n_neighbors=6)\n",
    "\n",
    "visualizer = ClassificationReport(knn_visualizer)\n",
    "visualizer.fit(X_train, y_train)     # Fit the training data to the visualizer\n",
    "visualizer.score(X_test,y_test)       # Evaluate the model on the test data\n",
    "\n",
    "visualizer.show()"
   ]
  },
  {
   "cell_type": "code",
   "execution_count": 15,
   "id": "d-qnl7uDHT9w",
   "metadata": {
    "id": "d-qnl7uDHT9w"
   },
   "outputs": [],
   "source": [
    "features = [\"DayOfWeek\", \"X\", \"Y\", \"PdDistrict\", \"Hour\", \"Month\"] \n",
    "X_train = train[features]\n",
    "y_train = train[\"Category\"]\n",
    "\n",
    "oversample = SMOTE()\n",
    "X_train, y_train = oversample.fit_resample(X_train, y_train)\n",
    "\n",
    "X_test = test[features]\n",
    "y_test = test[\"Category\"]\n",
    "\n",
    "knn = KNeighborsClassifier()\n",
    "# knn.fit(X_train, y_train)\n",
    "\n",
    "# predictions = knn.predict(X_test)\n",
    "\n",
    "# knn.score(X_train,y_train)   "
   ]
  },
  {
   "cell_type": "code",
   "execution_count": 16,
   "id": "GSAu3seUHULM",
   "metadata": {
    "colab": {
     "base_uri": "https://localhost:8080/"
    },
    "id": "GSAu3seUHULM",
    "outputId": "ca49d352-9450-49f2-f0de-1e1f4c61fdc3"
   },
   "outputs": [
    {
     "name": "stdout",
     "output_type": "stream",
     "text": [
      "Fitting 5 folds for each of 9 candidates, totalling 45 fits\n"
     ]
    }
   ],
   "source": [
    "k_range = list(range(1, 10))\n",
    "param_grid = dict(n_neighbors=k_range)\n",
    "\n",
    "\n",
    "# defining parameter range\n",
    "grid = GridSearchCV(knn, param_grid, cv=5, scoring='accuracy', return_train_score=False,verbose=1)\n",
    "\n",
    "# fitting the model for grid search\n",
    "grid_search=grid.fit(X_train, y_train)"
   ]
  },
  {
   "cell_type": "code",
   "execution_count": 17,
   "id": "eZfwaKI3I591",
   "metadata": {
    "colab": {
     "base_uri": "https://localhost:8080/"
    },
    "id": "eZfwaKI3I591",
    "outputId": "57e3dd51-0b51-4edb-b866-04c9673d9062"
   },
   "outputs": [
    {
     "name": "stdout",
     "output_type": "stream",
     "text": [
      "{'n_neighbors': 1}\n",
      "Accuracy for our training dataset with tuning is : 64.95%\n"
     ]
    }
   ],
   "source": [
    "print(grid_search.best_params_)\n",
    "\n",
    "accuracy = grid_search.best_score_ *100\n",
    "print(\"Accuracy for our training dataset with tuning is : {:.2f}%\".format(accuracy) )"
   ]
  },
  {
   "cell_type": "code",
   "execution_count": 18,
   "id": "S9_Rs3kcI6Ik",
   "metadata": {
    "colab": {
     "base_uri": "https://localhost:8080/"
    },
    "id": "S9_Rs3kcI6Ik",
    "outputId": "dab31d70-32e0-4804-ba56-fbf1eba0e587"
   },
   "outputs": [
    {
     "data": {
      "text/plain": [
       "0.9215640812611232"
      ]
     },
     "execution_count": 18,
     "metadata": {},
     "output_type": "execute_result"
    }
   ],
   "source": [
    "knn = KNeighborsClassifier(n_neighbors=1)\n",
    "knn.fit(X_train, y_train)\n",
    "\n",
    "predictions = knn.predict(X_test)\n",
    "\n",
    "knn.score(X_train,y_train)"
   ]
  },
  {
   "cell_type": "code",
   "execution_count": 19,
   "id": "-oS0wrmbI6Rm",
   "metadata": {
    "colab": {
     "base_uri": "https://localhost:8080/"
    },
    "id": "-oS0wrmbI6Rm",
    "outputId": "cee953ac-085f-4b87-8e23-c7af52aadf6d"
   },
   "outputs": [
    {
     "name": "stdout",
     "output_type": "stream",
     "text": [
      "Accuracy    :  0.5797050281874608\n",
      "Recall      :  0.5797050281874608\n",
      "Precision   :  0.5934603212453593\n",
      "F1 Score    :  0.5854928608989626\n",
      "Confusion Matrix: \n",
      "[[26066 32971]\n",
      " [40837 75736]]\n"
     ]
    }
   ],
   "source": [
    "ac_sc = accuracy_score(y_test, predictions)\n",
    "rc_sc = recall_score(y_test, predictions, average=\"weighted\")\n",
    "pr_sc = precision_score(y_test, predictions, average=\"weighted\")\n",
    "f1_sc = f1_score(y_test, predictions, average='weighted')\n",
    "confusion_m = confusion_matrix(y_test, predictions)\n",
    "\n",
    "print(\"Accuracy    : \", ac_sc)\n",
    "print(\"Recall      : \", rc_sc)\n",
    "print(\"Precision   : \", pr_sc)\n",
    "print(\"F1 Score    : \", f1_sc)\n",
    "print(\"Confusion Matrix: \")\n",
    "print(confusion_m)"
   ]
  },
  {
   "cell_type": "code",
   "execution_count": 20,
   "id": "YRX5YMz9I6YF",
   "metadata": {
    "colab": {
     "base_uri": "https://localhost:8080/"
    },
    "id": "YRX5YMz9I6YF",
    "outputId": "1c32ff01-4d36-4d8f-e6c0-4d7d48a11dfc"
   },
   "outputs": [
    {
     "name": "stdout",
     "output_type": "stream",
     "text": [
      "              precision    recall  f1-score   support\n",
      "\n",
      "           0       0.39      0.44      0.41     59037\n",
      "           1       0.70      0.65      0.67    116573\n",
      "\n",
      "    accuracy                           0.58    175610\n",
      "   macro avg       0.54      0.55      0.54    175610\n",
      "weighted avg       0.59      0.58      0.59    175610\n",
      "\n"
     ]
    }
   ],
   "source": [
    "print(classification_report(y_test, predictions))"
   ]
  },
  {
   "cell_type": "code",
   "execution_count": 21,
   "id": "359a4fd6",
   "metadata": {
    "id": "359a4fd6"
   },
   "outputs": [],
   "source": [
    "features = [\"DayOfWeek\", \"X\", \"Y\", \"PdDistrict\"]\n",
    "X_train = train[features]\n",
    "y_train = train[\"Category\"]\n",
    "\n",
    "oversample = SMOTE()\n",
    "X_train, y_train = oversample.fit_resample(X_train, y_train)\n",
    "\n",
    "X_test = test[features]\n",
    "y_test = test[\"Category\"]\n",
    "\n",
    "rf=RandomForestClassifier()\n",
    "# rf.fit(X_train,y_train)\n",
    "\n",
    "# predictions=rf.predict(X_test)\n",
    "\n",
    "# rf.score(X_train,y_train) "
   ]
  },
  {
   "cell_type": "code",
   "execution_count": 22,
   "id": "OfkXzgyiPukU",
   "metadata": {
    "colab": {
     "base_uri": "https://localhost:8080/"
    },
    "id": "OfkXzgyiPukU",
    "outputId": "f2f22d71-e976-4672-c451-f90ae707964f"
   },
   "outputs": [
    {
     "name": "stdout",
     "output_type": "stream",
     "text": [
      "Fitting 5 folds for each of 3 candidates, totalling 15 fits\n"
     ]
    }
   ],
   "source": [
    "n_estimators_range = [50, 100, 150]\n",
    "param_grid = dict(n_estimators=n_estimators_range)\n",
    "\n",
    "\n",
    "# defining parameter range\n",
    "grid = GridSearchCV(rf, param_grid, cv=5, scoring='accuracy', return_train_score=False,verbose=1)\n",
    "\n",
    "# fitting the model for grid search\n",
    "grid_search=grid.fit(X_train, y_train)"
   ]
  },
  {
   "cell_type": "code",
   "execution_count": 23,
   "id": "zkE19VJFPuyp",
   "metadata": {
    "colab": {
     "base_uri": "https://localhost:8080/"
    },
    "id": "zkE19VJFPuyp",
    "outputId": "d76c6f94-1a50-4db7-8858-f62ac704bd02"
   },
   "outputs": [
    {
     "name": "stdout",
     "output_type": "stream",
     "text": [
      "{'n_estimators': 100}\n",
      "Accuracy for our training dataset with tuning is : 63.74%\n"
     ]
    }
   ],
   "source": [
    "print(grid_search.best_params_)\n",
    "\n",
    "accuracy = grid_search.best_score_ *100\n",
    "print(\"Accuracy for our training dataset with tuning is : {:.2f}%\".format(accuracy) )"
   ]
  },
  {
   "cell_type": "code",
   "execution_count": 24,
   "id": "FvjBnwQpRQ9j",
   "metadata": {
    "colab": {
     "base_uri": "https://localhost:8080/"
    },
    "id": "FvjBnwQpRQ9j",
    "outputId": "799d1331-eae3-42ea-d21c-bde6e2fa8a44"
   },
   "outputs": [
    {
     "data": {
      "text/plain": [
       "0.7268718589458725"
      ]
     },
     "execution_count": 24,
     "metadata": {},
     "output_type": "execute_result"
    }
   ],
   "source": [
    "rf=RandomForestClassifier(n_estimators=100)\n",
    "rf.fit(X_train,y_train)\n",
    "\n",
    "predictions=rf.predict(X_test)\n",
    "\n",
    "rf.score(X_train,y_train)"
   ]
  },
  {
   "cell_type": "code",
   "execution_count": 25,
   "id": "rpeNMDp6PvDi",
   "metadata": {
    "colab": {
     "base_uri": "https://localhost:8080/"
    },
    "id": "rpeNMDp6PvDi",
    "outputId": "16920b56-5089-48b4-b1cc-98180d41ff09"
   },
   "outputs": [
    {
     "name": "stdout",
     "output_type": "stream",
     "text": [
      "Accuracy    :  0.5941062581857525\n",
      "Recall      :  0.5941062581857525\n",
      "Precision   :  0.6181807211803393\n",
      "F1 Score    :  0.6026088637088849\n",
      "Confusion Matrix: \n",
      "[[30340 28697]\n",
      " [42582 73991]]\n"
     ]
    }
   ],
   "source": [
    "ac_sc = accuracy_score(y_test, predictions)\n",
    "rc_sc = recall_score(y_test, predictions, average=\"weighted\")\n",
    "pr_sc = precision_score(y_test, predictions, average=\"weighted\")\n",
    "f1_sc = f1_score(y_test, predictions, average='weighted')\n",
    "confusion_m = confusion_matrix(y_test, predictions)\n",
    "\n",
    "print(\"Accuracy    : \", ac_sc)\n",
    "print(\"Recall      : \", rc_sc)\n",
    "print(\"Precision   : \", pr_sc)\n",
    "print(\"F1 Score    : \", f1_sc)\n",
    "print(\"Confusion Matrix: \")\n",
    "print(confusion_m)"
   ]
  },
  {
   "cell_type": "code",
   "execution_count": 26,
   "id": "B6PX1RDnPvR2",
   "metadata": {
    "colab": {
     "base_uri": "https://localhost:8080/"
    },
    "id": "B6PX1RDnPvR2",
    "outputId": "74c5ced4-1d8d-478d-cd63-2b2888537e86"
   },
   "outputs": [
    {
     "name": "stdout",
     "output_type": "stream",
     "text": [
      "              precision    recall  f1-score   support\n",
      "\n",
      "           0       0.42      0.51      0.46     59037\n",
      "           1       0.72      0.63      0.67    116573\n",
      "\n",
      "    accuracy                           0.59    175610\n",
      "   macro avg       0.57      0.57      0.57    175610\n",
      "weighted avg       0.62      0.59      0.60    175610\n",
      "\n"
     ]
    }
   ],
   "source": [
    "print(classification_report(y_test, predictions))"
   ]
  },
  {
   "cell_type": "code",
   "execution_count": 27,
   "id": "klWJ5aS3PvbB",
   "metadata": {
    "id": "klWJ5aS3PvbB"
   },
   "outputs": [],
   "source": [
    "features = [\"DayOfWeek\", \"X\", \"Y\", \"PdDistrict\", \"Hour\", \"Month\"]\n",
    "X_train = train[features]\n",
    "y_train = train[\"Category\"]\n",
    "\n",
    "oversample = SMOTE()\n",
    "X_train, y_train = oversample.fit_resample(X_train, y_train)\n",
    "\n",
    "X_test = test[features]\n",
    "y_test = test[\"Category\"]\n",
    "\n",
    "rf=RandomForestClassifier()\n",
    "# rf.fit(X_train,y_train)\n",
    "\n",
    "# predictions=rf.predict(X_test) \n",
    "\n",
    "# rf.score(X_train,y_train)     "
   ]
  },
  {
   "cell_type": "code",
   "execution_count": 28,
   "id": "hNNv_d5nRqI8",
   "metadata": {
    "colab": {
     "base_uri": "https://localhost:8080/"
    },
    "id": "hNNv_d5nRqI8",
    "outputId": "648ad1a7-6d07-41b0-d28f-313e4da09cf9"
   },
   "outputs": [
    {
     "name": "stdout",
     "output_type": "stream",
     "text": [
      "Fitting 5 folds for each of 3 candidates, totalling 15 fits\n"
     ]
    }
   ],
   "source": [
    "n_estimators_range = [50, 100, 150]\n",
    "param_grid = dict(n_estimators=n_estimators_range)\n",
    "\n",
    "\n",
    "# defining parameter range\n",
    "grid = GridSearchCV(rf, param_grid, cv=5, scoring='accuracy', return_train_score=False,verbose=1)\n",
    "\n",
    "# fitting the model for grid search\n",
    "grid_search=grid.fit(X_train, y_train)"
   ]
  },
  {
   "cell_type": "code",
   "execution_count": 29,
   "id": "Oe5tavfLRqZ5",
   "metadata": {
    "colab": {
     "base_uri": "https://localhost:8080/"
    },
    "id": "Oe5tavfLRqZ5",
    "outputId": "bf7bceef-6d69-4fd0-aa65-fc822f240aea"
   },
   "outputs": [
    {
     "name": "stdout",
     "output_type": "stream",
     "text": [
      "{'n_estimators': 150}\n",
      "Accuracy for our training dataset with tuning is : 67.51%\n"
     ]
    }
   ],
   "source": [
    "print(grid_search.best_params_)\n",
    "\n",
    "accuracy = grid_search.best_score_ *100\n",
    "print(\"Accuracy for our training dataset with tuning is : {:.2f}%\".format(accuracy) )"
   ]
  },
  {
   "cell_type": "code",
   "execution_count": 30,
   "id": "TgU0KqQlRqdQ",
   "metadata": {
    "colab": {
     "base_uri": "https://localhost:8080/"
    },
    "id": "TgU0KqQlRqdQ",
    "outputId": "74285761-f2c2-45c2-c250-e0eda9c34649"
   },
   "outputs": [
    {
     "data": {
      "text/plain": [
       "0.9329454044271555"
      ]
     },
     "execution_count": 30,
     "metadata": {},
     "output_type": "execute_result"
    }
   ],
   "source": [
    "rf=RandomForestClassifier(n_estimators=150)\n",
    "rf.fit(X_train,y_train)\n",
    "\n",
    "predictions=rf.predict(X_test)\n",
    "\n",
    "rf.score(X_train,y_train)"
   ]
  },
  {
   "cell_type": "code",
   "execution_count": 31,
   "id": "V7IMJc59RqgM",
   "metadata": {
    "colab": {
     "base_uri": "https://localhost:8080/"
    },
    "id": "V7IMJc59RqgM",
    "outputId": "c14772c8-2896-4ad8-f22b-468367ad3559"
   },
   "outputs": [
    {
     "name": "stdout",
     "output_type": "stream",
     "text": [
      "Accuracy    :  0.6102329024543022\n",
      "Recall      :  0.6102329024543022\n",
      "Precision   :  0.6158663122612599\n",
      "F1 Score    :  0.6128279598635341\n",
      "Confusion Matrix: \n",
      "[[26531 32506]\n",
      " [35941 80632]]\n"
     ]
    }
   ],
   "source": [
    "ac_sc = accuracy_score(y_test, predictions)\n",
    "rc_sc = recall_score(y_test, predictions, average=\"weighted\")\n",
    "pr_sc = precision_score(y_test, predictions, average=\"weighted\")\n",
    "f1_sc = f1_score(y_test, predictions, average='weighted')\n",
    "confusion_m = confusion_matrix(y_test, predictions)\n",
    "\n",
    "print(\"Accuracy    : \", ac_sc)\n",
    "print(\"Recall      : \", rc_sc)\n",
    "print(\"Precision   : \", pr_sc)\n",
    "print(\"F1 Score    : \", f1_sc)\n",
    "print(\"Confusion Matrix: \")\n",
    "print(confusion_m)"
   ]
  },
  {
   "cell_type": "code",
   "execution_count": 32,
   "id": "MYGfFFxBSPcK",
   "metadata": {
    "colab": {
     "base_uri": "https://localhost:8080/"
    },
    "id": "MYGfFFxBSPcK",
    "outputId": "eaa16801-8d7c-4ae3-ed00-c259a0b0b83b"
   },
   "outputs": [
    {
     "name": "stdout",
     "output_type": "stream",
     "text": [
      "              precision    recall  f1-score   support\n",
      "\n",
      "           0       0.42      0.45      0.44     59037\n",
      "           1       0.71      0.69      0.70    116573\n",
      "\n",
      "    accuracy                           0.61    175610\n",
      "   macro avg       0.57      0.57      0.57    175610\n",
      "weighted avg       0.62      0.61      0.61    175610\n",
      "\n"
     ]
    }
   ],
   "source": [
    "print(classification_report(y_test, predictions))"
   ]
  },
  {
   "cell_type": "code",
   "execution_count": 33,
   "id": "72d32752",
   "metadata": {
    "id": "72d32752"
   },
   "outputs": [],
   "source": [
    "# xgb = XGBClassifier()\n",
    "# xgb.fit(X_train, y_train)\n",
    "\n",
    "# predictions = xgb.predict(X_test)\n",
    "\n",
    "# xgb.score(X_train,y_train)"
   ]
  },
  {
   "cell_type": "code",
   "execution_count": null,
   "id": "d03a8f28",
   "metadata": {
    "id": "d03a8f28"
   },
   "outputs": [],
   "source": [
    "# print(classification_report(y_test, predictions))"
   ]
  }
 ],
 "metadata": {
  "colab": {
   "provenance": []
  },
  "kernelspec": {
   "display_name": "Python 3 (ipykernel)",
   "language": "python",
   "name": "python3"
  },
  "language_info": {
   "codemirror_mode": {
    "name": "ipython",
    "version": 3
   },
   "file_extension": ".py",
   "mimetype": "text/x-python",
   "name": "python",
   "nbconvert_exporter": "python",
   "pygments_lexer": "ipython3",
   "version": "3.11.4"
  }
 },
 "nbformat": 4,
 "nbformat_minor": 5
}
