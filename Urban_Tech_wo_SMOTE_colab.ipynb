{
  "cells": [
    {
      "cell_type": "code",
      "execution_count": 36,
      "id": "3e092d54",
      "metadata": {
        "id": "3e092d54"
      },
      "outputs": [],
      "source": [
        "import pandas as pd\n",
        "from sklearn.neighbors import KNeighborsClassifier\n",
        "from sklearn.linear_model import LogisticRegression\n",
        "from sklearn.ensemble import RandomForestClassifier\n",
        "from sklearn import svm\n",
        "from sklearn.metrics import classification_report\n",
        "from sklearn.model_selection import train_test_split\n",
        "from imblearn.over_sampling import SMOTE\n",
        "from xgboost import XGBClassifier\n",
        "from yellowbrick.classifier import ClassificationReport\n",
        "from sklearn.model_selection import GridSearchCV\n",
        "from sklearn.metrics import precision_score, recall_score, confusion_matrix, classification_report, accuracy_score, f1_score\n",
        "from yellowbrick.classifier import ClassificationReport"
      ]
    },
    {
      "cell_type": "code",
      "execution_count": 37,
      "id": "a86296c1",
      "metadata": {
        "colab": {
          "base_uri": "https://localhost:8080/",
          "height": 659
        },
        "id": "a86296c1",
        "outputId": "e7ad2c21-7aec-4d8a-9a02-2b49fdd64aad"
      },
      "outputs": [
        {
          "output_type": "execute_result",
          "data": {
            "text/plain": [
              "                     Dates                Category  \\\n",
              "0      2015-05-13 23:53:00                WARRANTS   \n",
              "1      2015-05-13 23:53:00          OTHER OFFENSES   \n",
              "2      2015-05-13 23:33:00          OTHER OFFENSES   \n",
              "3      2015-05-13 23:30:00           LARCENY/THEFT   \n",
              "4      2015-05-13 23:30:00           LARCENY/THEFT   \n",
              "...                    ...                     ...   \n",
              "878044 2003-01-06 00:15:00                 ROBBERY   \n",
              "878045 2003-01-06 00:01:00           LARCENY/THEFT   \n",
              "878046 2003-01-06 00:01:00           LARCENY/THEFT   \n",
              "878047 2003-01-06 00:01:00               VANDALISM   \n",
              "878048 2003-01-06 00:01:00  FORGERY/COUNTERFEITING   \n",
              "\n",
              "                                         Descript  DayOfWeek  PdDistrict  \\\n",
              "0                                  WARRANT ARREST          0           0   \n",
              "1                        TRAFFIC VIOLATION ARREST          0           0   \n",
              "2                        TRAFFIC VIOLATION ARREST          0           0   \n",
              "3                    GRAND THEFT FROM LOCKED AUTO          0           0   \n",
              "4                    GRAND THEFT FROM LOCKED AUTO          0           1   \n",
              "...                                           ...        ...         ...   \n",
              "878044           ROBBERY ON THE STREET WITH A GUN          2           6   \n",
              "878045               GRAND THEFT FROM LOCKED AUTO          2           2   \n",
              "878046               GRAND THEFT FROM LOCKED AUTO          2           9   \n",
              "878047  MALICIOUS MISCHIEF, VANDALISM OF VEHICLES          2           9   \n",
              "878048                   CHECKS, FORGERY (FELONY)          2           3   \n",
              "\n",
              "            Resolution  Address           X          Y               date2  \\\n",
              "0       ARREST, BOOKED        0 -122.425892  37.774599 2015-05-13 23:53:00   \n",
              "1       ARREST, BOOKED        0 -122.425892  37.774599 2015-05-13 23:53:00   \n",
              "2       ARREST, BOOKED        1 -122.424363  37.800414 2015-05-13 23:33:00   \n",
              "3                 NONE        2 -122.426995  37.800873 2015-05-13 23:30:00   \n",
              "4                 NONE        3 -122.438738  37.771541 2015-05-13 23:30:00   \n",
              "...                ...      ...         ...        ...                 ...   \n",
              "878044            NONE    16120 -122.459033  37.714056 2003-01-06 00:15:00   \n",
              "878045            NONE    13577 -122.447364  37.731948 2003-01-06 00:01:00   \n",
              "878046            NONE     4417 -122.403390  37.780266 2003-01-06 00:01:00   \n",
              "878047            NONE     2093 -122.390531  37.780607 2003-01-06 00:01:00   \n",
              "878048            NONE    22104 -122.394926  37.738212 2003-01-06 00:01:00   \n",
              "\n",
              "        Hour  Month  \n",
              "0         23      5  \n",
              "1         23      5  \n",
              "2         23      5  \n",
              "3         23      5  \n",
              "4         23      5  \n",
              "...      ...    ...  \n",
              "878044     0      1  \n",
              "878045     0      1  \n",
              "878046     0      1  \n",
              "878047     0      1  \n",
              "878048     0      1  \n",
              "\n",
              "[878049 rows x 12 columns]"
            ],
            "text/html": [
              "\n",
              "  <div id=\"df-6b923c07-ded8-49e7-9e39-021fc778d0ad\">\n",
              "    <div class=\"colab-df-container\">\n",
              "      <div>\n",
              "<style scoped>\n",
              "    .dataframe tbody tr th:only-of-type {\n",
              "        vertical-align: middle;\n",
              "    }\n",
              "\n",
              "    .dataframe tbody tr th {\n",
              "        vertical-align: top;\n",
              "    }\n",
              "\n",
              "    .dataframe thead th {\n",
              "        text-align: right;\n",
              "    }\n",
              "</style>\n",
              "<table border=\"1\" class=\"dataframe\">\n",
              "  <thead>\n",
              "    <tr style=\"text-align: right;\">\n",
              "      <th></th>\n",
              "      <th>Dates</th>\n",
              "      <th>Category</th>\n",
              "      <th>Descript</th>\n",
              "      <th>DayOfWeek</th>\n",
              "      <th>PdDistrict</th>\n",
              "      <th>Resolution</th>\n",
              "      <th>Address</th>\n",
              "      <th>X</th>\n",
              "      <th>Y</th>\n",
              "      <th>date2</th>\n",
              "      <th>Hour</th>\n",
              "      <th>Month</th>\n",
              "    </tr>\n",
              "  </thead>\n",
              "  <tbody>\n",
              "    <tr>\n",
              "      <th>0</th>\n",
              "      <td>2015-05-13 23:53:00</td>\n",
              "      <td>WARRANTS</td>\n",
              "      <td>WARRANT ARREST</td>\n",
              "      <td>0</td>\n",
              "      <td>0</td>\n",
              "      <td>ARREST, BOOKED</td>\n",
              "      <td>0</td>\n",
              "      <td>-122.425892</td>\n",
              "      <td>37.774599</td>\n",
              "      <td>2015-05-13 23:53:00</td>\n",
              "      <td>23</td>\n",
              "      <td>5</td>\n",
              "    </tr>\n",
              "    <tr>\n",
              "      <th>1</th>\n",
              "      <td>2015-05-13 23:53:00</td>\n",
              "      <td>OTHER OFFENSES</td>\n",
              "      <td>TRAFFIC VIOLATION ARREST</td>\n",
              "      <td>0</td>\n",
              "      <td>0</td>\n",
              "      <td>ARREST, BOOKED</td>\n",
              "      <td>0</td>\n",
              "      <td>-122.425892</td>\n",
              "      <td>37.774599</td>\n",
              "      <td>2015-05-13 23:53:00</td>\n",
              "      <td>23</td>\n",
              "      <td>5</td>\n",
              "    </tr>\n",
              "    <tr>\n",
              "      <th>2</th>\n",
              "      <td>2015-05-13 23:33:00</td>\n",
              "      <td>OTHER OFFENSES</td>\n",
              "      <td>TRAFFIC VIOLATION ARREST</td>\n",
              "      <td>0</td>\n",
              "      <td>0</td>\n",
              "      <td>ARREST, BOOKED</td>\n",
              "      <td>1</td>\n",
              "      <td>-122.424363</td>\n",
              "      <td>37.800414</td>\n",
              "      <td>2015-05-13 23:33:00</td>\n",
              "      <td>23</td>\n",
              "      <td>5</td>\n",
              "    </tr>\n",
              "    <tr>\n",
              "      <th>3</th>\n",
              "      <td>2015-05-13 23:30:00</td>\n",
              "      <td>LARCENY/THEFT</td>\n",
              "      <td>GRAND THEFT FROM LOCKED AUTO</td>\n",
              "      <td>0</td>\n",
              "      <td>0</td>\n",
              "      <td>NONE</td>\n",
              "      <td>2</td>\n",
              "      <td>-122.426995</td>\n",
              "      <td>37.800873</td>\n",
              "      <td>2015-05-13 23:30:00</td>\n",
              "      <td>23</td>\n",
              "      <td>5</td>\n",
              "    </tr>\n",
              "    <tr>\n",
              "      <th>4</th>\n",
              "      <td>2015-05-13 23:30:00</td>\n",
              "      <td>LARCENY/THEFT</td>\n",
              "      <td>GRAND THEFT FROM LOCKED AUTO</td>\n",
              "      <td>0</td>\n",
              "      <td>1</td>\n",
              "      <td>NONE</td>\n",
              "      <td>3</td>\n",
              "      <td>-122.438738</td>\n",
              "      <td>37.771541</td>\n",
              "      <td>2015-05-13 23:30:00</td>\n",
              "      <td>23</td>\n",
              "      <td>5</td>\n",
              "    </tr>\n",
              "    <tr>\n",
              "      <th>...</th>\n",
              "      <td>...</td>\n",
              "      <td>...</td>\n",
              "      <td>...</td>\n",
              "      <td>...</td>\n",
              "      <td>...</td>\n",
              "      <td>...</td>\n",
              "      <td>...</td>\n",
              "      <td>...</td>\n",
              "      <td>...</td>\n",
              "      <td>...</td>\n",
              "      <td>...</td>\n",
              "      <td>...</td>\n",
              "    </tr>\n",
              "    <tr>\n",
              "      <th>878044</th>\n",
              "      <td>2003-01-06 00:15:00</td>\n",
              "      <td>ROBBERY</td>\n",
              "      <td>ROBBERY ON THE STREET WITH A GUN</td>\n",
              "      <td>2</td>\n",
              "      <td>6</td>\n",
              "      <td>NONE</td>\n",
              "      <td>16120</td>\n",
              "      <td>-122.459033</td>\n",
              "      <td>37.714056</td>\n",
              "      <td>2003-01-06 00:15:00</td>\n",
              "      <td>0</td>\n",
              "      <td>1</td>\n",
              "    </tr>\n",
              "    <tr>\n",
              "      <th>878045</th>\n",
              "      <td>2003-01-06 00:01:00</td>\n",
              "      <td>LARCENY/THEFT</td>\n",
              "      <td>GRAND THEFT FROM LOCKED AUTO</td>\n",
              "      <td>2</td>\n",
              "      <td>2</td>\n",
              "      <td>NONE</td>\n",
              "      <td>13577</td>\n",
              "      <td>-122.447364</td>\n",
              "      <td>37.731948</td>\n",
              "      <td>2003-01-06 00:01:00</td>\n",
              "      <td>0</td>\n",
              "      <td>1</td>\n",
              "    </tr>\n",
              "    <tr>\n",
              "      <th>878046</th>\n",
              "      <td>2003-01-06 00:01:00</td>\n",
              "      <td>LARCENY/THEFT</td>\n",
              "      <td>GRAND THEFT FROM LOCKED AUTO</td>\n",
              "      <td>2</td>\n",
              "      <td>9</td>\n",
              "      <td>NONE</td>\n",
              "      <td>4417</td>\n",
              "      <td>-122.403390</td>\n",
              "      <td>37.780266</td>\n",
              "      <td>2003-01-06 00:01:00</td>\n",
              "      <td>0</td>\n",
              "      <td>1</td>\n",
              "    </tr>\n",
              "    <tr>\n",
              "      <th>878047</th>\n",
              "      <td>2003-01-06 00:01:00</td>\n",
              "      <td>VANDALISM</td>\n",
              "      <td>MALICIOUS MISCHIEF, VANDALISM OF VEHICLES</td>\n",
              "      <td>2</td>\n",
              "      <td>9</td>\n",
              "      <td>NONE</td>\n",
              "      <td>2093</td>\n",
              "      <td>-122.390531</td>\n",
              "      <td>37.780607</td>\n",
              "      <td>2003-01-06 00:01:00</td>\n",
              "      <td>0</td>\n",
              "      <td>1</td>\n",
              "    </tr>\n",
              "    <tr>\n",
              "      <th>878048</th>\n",
              "      <td>2003-01-06 00:01:00</td>\n",
              "      <td>FORGERY/COUNTERFEITING</td>\n",
              "      <td>CHECKS, FORGERY (FELONY)</td>\n",
              "      <td>2</td>\n",
              "      <td>3</td>\n",
              "      <td>NONE</td>\n",
              "      <td>22104</td>\n",
              "      <td>-122.394926</td>\n",
              "      <td>37.738212</td>\n",
              "      <td>2003-01-06 00:01:00</td>\n",
              "      <td>0</td>\n",
              "      <td>1</td>\n",
              "    </tr>\n",
              "  </tbody>\n",
              "</table>\n",
              "<p>878049 rows × 12 columns</p>\n",
              "</div>\n",
              "      <button class=\"colab-df-convert\" onclick=\"convertToInteractive('df-6b923c07-ded8-49e7-9e39-021fc778d0ad')\"\n",
              "              title=\"Convert this dataframe to an interactive table.\"\n",
              "              style=\"display:none;\">\n",
              "        \n",
              "  <svg xmlns=\"http://www.w3.org/2000/svg\" height=\"24px\"viewBox=\"0 0 24 24\"\n",
              "       width=\"24px\">\n",
              "    <path d=\"M0 0h24v24H0V0z\" fill=\"none\"/>\n",
              "    <path d=\"M18.56 5.44l.94 2.06.94-2.06 2.06-.94-2.06-.94-.94-2.06-.94 2.06-2.06.94zm-11 1L8.5 8.5l.94-2.06 2.06-.94-2.06-.94L8.5 2.5l-.94 2.06-2.06.94zm10 10l.94 2.06.94-2.06 2.06-.94-2.06-.94-.94-2.06-.94 2.06-2.06.94z\"/><path d=\"M17.41 7.96l-1.37-1.37c-.4-.4-.92-.59-1.43-.59-.52 0-1.04.2-1.43.59L10.3 9.45l-7.72 7.72c-.78.78-.78 2.05 0 2.83L4 21.41c.39.39.9.59 1.41.59.51 0 1.02-.2 1.41-.59l7.78-7.78 2.81-2.81c.8-.78.8-2.07 0-2.86zM5.41 20L4 18.59l7.72-7.72 1.47 1.35L5.41 20z\"/>\n",
              "  </svg>\n",
              "      </button>\n",
              "      \n",
              "  <style>\n",
              "    .colab-df-container {\n",
              "      display:flex;\n",
              "      flex-wrap:wrap;\n",
              "      gap: 12px;\n",
              "    }\n",
              "\n",
              "    .colab-df-convert {\n",
              "      background-color: #E8F0FE;\n",
              "      border: none;\n",
              "      border-radius: 50%;\n",
              "      cursor: pointer;\n",
              "      display: none;\n",
              "      fill: #1967D2;\n",
              "      height: 32px;\n",
              "      padding: 0 0 0 0;\n",
              "      width: 32px;\n",
              "    }\n",
              "\n",
              "    .colab-df-convert:hover {\n",
              "      background-color: #E2EBFA;\n",
              "      box-shadow: 0px 1px 2px rgba(60, 64, 67, 0.3), 0px 1px 3px 1px rgba(60, 64, 67, 0.15);\n",
              "      fill: #174EA6;\n",
              "    }\n",
              "\n",
              "    [theme=dark] .colab-df-convert {\n",
              "      background-color: #3B4455;\n",
              "      fill: #D2E3FC;\n",
              "    }\n",
              "\n",
              "    [theme=dark] .colab-df-convert:hover {\n",
              "      background-color: #434B5C;\n",
              "      box-shadow: 0px 1px 3px 1px rgba(0, 0, 0, 0.15);\n",
              "      filter: drop-shadow(0px 1px 2px rgba(0, 0, 0, 0.3));\n",
              "      fill: #FFFFFF;\n",
              "    }\n",
              "  </style>\n",
              "\n",
              "      <script>\n",
              "        const buttonEl =\n",
              "          document.querySelector('#df-6b923c07-ded8-49e7-9e39-021fc778d0ad button.colab-df-convert');\n",
              "        buttonEl.style.display =\n",
              "          google.colab.kernel.accessAllowed ? 'block' : 'none';\n",
              "\n",
              "        async function convertToInteractive(key) {\n",
              "          const element = document.querySelector('#df-6b923c07-ded8-49e7-9e39-021fc778d0ad');\n",
              "          const dataTable =\n",
              "            await google.colab.kernel.invokeFunction('convertToInteractive',\n",
              "                                                     [key], {});\n",
              "          if (!dataTable) return;\n",
              "\n",
              "          const docLinkHtml = 'Like what you see? Visit the ' +\n",
              "            '<a target=\"_blank\" href=https://colab.research.google.com/notebooks/data_table.ipynb>data table notebook</a>'\n",
              "            + ' to learn more about interactive tables.';\n",
              "          element.innerHTML = '';\n",
              "          dataTable['output_type'] = 'display_data';\n",
              "          await google.colab.output.renderOutput(dataTable, element);\n",
              "          const docLink = document.createElement('div');\n",
              "          docLink.innerHTML = docLinkHtml;\n",
              "          element.appendChild(docLink);\n",
              "        }\n",
              "      </script>\n",
              "    </div>\n",
              "  </div>\n",
              "  "
            ]
          },
          "metadata": {},
          "execution_count": 37
        }
      ],
      "source": [
        "df = pd.read_csv('/content/train.csv', parse_dates=['Dates'])\n",
        "df = df.dropna()\n",
        "df['date2'] = pd.to_datetime(df['Dates'])\n",
        "df['Hour'] = df['date2'].dt.hour\n",
        "df['Month'] = df['date2'].dt.month\n",
        "df['Address'] = pd.factorize(df[\"Address\"])[0]\n",
        "df['PdDistrict'] = pd.factorize(df[\"PdDistrict\"])[0]\n",
        "df['DayOfWeek'] = pd.factorize(df[\"DayOfWeek\"])[0]\n",
        "df"
      ]
    },
    {
      "cell_type": "code",
      "execution_count": 38,
      "id": "f99e8ba4",
      "metadata": {
        "id": "f99e8ba4"
      },
      "outputs": [],
      "source": [
        "def correct_coordinates(district):\n",
        "    tmp = df[df[\"PdDistrict\"] == district]\n",
        "    x_avg = tmp.X.mean()\n",
        "    y_avg = tmp.Y.mean()\n",
        "    return([x_avg,y_avg])\n",
        "\n",
        "index_to_correct = df[(df[\"X\"] > -121)|(df[\"Y\"] > 50)].index\n",
        "\n",
        "for i in index_to_correct:\n",
        "    tmp = correct_coordinates(df.loc[i,\"PdDistrict\"])\n",
        "    x = tmp[0]\n",
        "    y = tmp[1]\n",
        "    df.loc[i,\"X\"] = x \n",
        "    df.loc[i,\"Y\"] = y"
      ]
    },
    {
      "cell_type": "code",
      "execution_count": 39,
      "id": "401ed09d",
      "metadata": {
        "colab": {
          "base_uri": "https://localhost:8080/",
          "height": 659
        },
        "id": "401ed09d",
        "outputId": "1f81dd14-46d1-4889-d536-961d55869688"
      },
      "outputs": [
        {
          "output_type": "execute_result",
          "data": {
            "text/plain": [
              "                     Dates                Category  \\\n",
              "0      2015-05-13 23:53:00                WARRANTS   \n",
              "1      2015-05-13 23:53:00          OTHER OFFENSES   \n",
              "2      2015-05-13 23:33:00          OTHER OFFENSES   \n",
              "3      2015-05-13 23:30:00           LARCENY/THEFT   \n",
              "4      2015-05-13 23:30:00           LARCENY/THEFT   \n",
              "...                    ...                     ...   \n",
              "878044 2003-01-06 00:15:00                 ROBBERY   \n",
              "878045 2003-01-06 00:01:00           LARCENY/THEFT   \n",
              "878046 2003-01-06 00:01:00           LARCENY/THEFT   \n",
              "878047 2003-01-06 00:01:00               VANDALISM   \n",
              "878048 2003-01-06 00:01:00  FORGERY/COUNTERFEITING   \n",
              "\n",
              "                                         Descript  DayOfWeek  PdDistrict  \\\n",
              "0                                  WARRANT ARREST          0           0   \n",
              "1                        TRAFFIC VIOLATION ARREST          0           0   \n",
              "2                        TRAFFIC VIOLATION ARREST          0           0   \n",
              "3                    GRAND THEFT FROM LOCKED AUTO          0           0   \n",
              "4                    GRAND THEFT FROM LOCKED AUTO          0           1   \n",
              "...                                           ...        ...         ...   \n",
              "878044           ROBBERY ON THE STREET WITH A GUN          2           6   \n",
              "878045               GRAND THEFT FROM LOCKED AUTO          2           2   \n",
              "878046               GRAND THEFT FROM LOCKED AUTO          2           9   \n",
              "878047  MALICIOUS MISCHIEF, VANDALISM OF VEHICLES          2           9   \n",
              "878048                   CHECKS, FORGERY (FELONY)          2           3   \n",
              "\n",
              "            Resolution  Address           X          Y               date2  \\\n",
              "0       ARREST, BOOKED        0 -122.425892  37.774599 2015-05-13 23:53:00   \n",
              "1       ARREST, BOOKED        0 -122.425892  37.774599 2015-05-13 23:53:00   \n",
              "2       ARREST, BOOKED        1 -122.424363  37.800414 2015-05-13 23:33:00   \n",
              "3                 NONE        2 -122.426995  37.800873 2015-05-13 23:30:00   \n",
              "4                 NONE        3 -122.438738  37.771541 2015-05-13 23:30:00   \n",
              "...                ...      ...         ...        ...                 ...   \n",
              "878044            NONE    16120 -122.459033  37.714056 2003-01-06 00:15:00   \n",
              "878045            NONE    13577 -122.447364  37.731948 2003-01-06 00:01:00   \n",
              "878046            NONE     4417 -122.403390  37.780266 2003-01-06 00:01:00   \n",
              "878047            NONE     2093 -122.390531  37.780607 2003-01-06 00:01:00   \n",
              "878048            NONE    22104 -122.394926  37.738212 2003-01-06 00:01:00   \n",
              "\n",
              "        Hour  Month  \n",
              "0         23      5  \n",
              "1         23      5  \n",
              "2         23      5  \n",
              "3         23      5  \n",
              "4         23      5  \n",
              "...      ...    ...  \n",
              "878044     0      1  \n",
              "878045     0      1  \n",
              "878046     0      1  \n",
              "878047     0      1  \n",
              "878048     0      1  \n",
              "\n",
              "[878049 rows x 12 columns]"
            ],
            "text/html": [
              "\n",
              "  <div id=\"df-c76573da-e95d-45dd-9713-5dd8c90f2c21\">\n",
              "    <div class=\"colab-df-container\">\n",
              "      <div>\n",
              "<style scoped>\n",
              "    .dataframe tbody tr th:only-of-type {\n",
              "        vertical-align: middle;\n",
              "    }\n",
              "\n",
              "    .dataframe tbody tr th {\n",
              "        vertical-align: top;\n",
              "    }\n",
              "\n",
              "    .dataframe thead th {\n",
              "        text-align: right;\n",
              "    }\n",
              "</style>\n",
              "<table border=\"1\" class=\"dataframe\">\n",
              "  <thead>\n",
              "    <tr style=\"text-align: right;\">\n",
              "      <th></th>\n",
              "      <th>Dates</th>\n",
              "      <th>Category</th>\n",
              "      <th>Descript</th>\n",
              "      <th>DayOfWeek</th>\n",
              "      <th>PdDistrict</th>\n",
              "      <th>Resolution</th>\n",
              "      <th>Address</th>\n",
              "      <th>X</th>\n",
              "      <th>Y</th>\n",
              "      <th>date2</th>\n",
              "      <th>Hour</th>\n",
              "      <th>Month</th>\n",
              "    </tr>\n",
              "  </thead>\n",
              "  <tbody>\n",
              "    <tr>\n",
              "      <th>0</th>\n",
              "      <td>2015-05-13 23:53:00</td>\n",
              "      <td>WARRANTS</td>\n",
              "      <td>WARRANT ARREST</td>\n",
              "      <td>0</td>\n",
              "      <td>0</td>\n",
              "      <td>ARREST, BOOKED</td>\n",
              "      <td>0</td>\n",
              "      <td>-122.425892</td>\n",
              "      <td>37.774599</td>\n",
              "      <td>2015-05-13 23:53:00</td>\n",
              "      <td>23</td>\n",
              "      <td>5</td>\n",
              "    </tr>\n",
              "    <tr>\n",
              "      <th>1</th>\n",
              "      <td>2015-05-13 23:53:00</td>\n",
              "      <td>OTHER OFFENSES</td>\n",
              "      <td>TRAFFIC VIOLATION ARREST</td>\n",
              "      <td>0</td>\n",
              "      <td>0</td>\n",
              "      <td>ARREST, BOOKED</td>\n",
              "      <td>0</td>\n",
              "      <td>-122.425892</td>\n",
              "      <td>37.774599</td>\n",
              "      <td>2015-05-13 23:53:00</td>\n",
              "      <td>23</td>\n",
              "      <td>5</td>\n",
              "    </tr>\n",
              "    <tr>\n",
              "      <th>2</th>\n",
              "      <td>2015-05-13 23:33:00</td>\n",
              "      <td>OTHER OFFENSES</td>\n",
              "      <td>TRAFFIC VIOLATION ARREST</td>\n",
              "      <td>0</td>\n",
              "      <td>0</td>\n",
              "      <td>ARREST, BOOKED</td>\n",
              "      <td>1</td>\n",
              "      <td>-122.424363</td>\n",
              "      <td>37.800414</td>\n",
              "      <td>2015-05-13 23:33:00</td>\n",
              "      <td>23</td>\n",
              "      <td>5</td>\n",
              "    </tr>\n",
              "    <tr>\n",
              "      <th>3</th>\n",
              "      <td>2015-05-13 23:30:00</td>\n",
              "      <td>LARCENY/THEFT</td>\n",
              "      <td>GRAND THEFT FROM LOCKED AUTO</td>\n",
              "      <td>0</td>\n",
              "      <td>0</td>\n",
              "      <td>NONE</td>\n",
              "      <td>2</td>\n",
              "      <td>-122.426995</td>\n",
              "      <td>37.800873</td>\n",
              "      <td>2015-05-13 23:30:00</td>\n",
              "      <td>23</td>\n",
              "      <td>5</td>\n",
              "    </tr>\n",
              "    <tr>\n",
              "      <th>4</th>\n",
              "      <td>2015-05-13 23:30:00</td>\n",
              "      <td>LARCENY/THEFT</td>\n",
              "      <td>GRAND THEFT FROM LOCKED AUTO</td>\n",
              "      <td>0</td>\n",
              "      <td>1</td>\n",
              "      <td>NONE</td>\n",
              "      <td>3</td>\n",
              "      <td>-122.438738</td>\n",
              "      <td>37.771541</td>\n",
              "      <td>2015-05-13 23:30:00</td>\n",
              "      <td>23</td>\n",
              "      <td>5</td>\n",
              "    </tr>\n",
              "    <tr>\n",
              "      <th>...</th>\n",
              "      <td>...</td>\n",
              "      <td>...</td>\n",
              "      <td>...</td>\n",
              "      <td>...</td>\n",
              "      <td>...</td>\n",
              "      <td>...</td>\n",
              "      <td>...</td>\n",
              "      <td>...</td>\n",
              "      <td>...</td>\n",
              "      <td>...</td>\n",
              "      <td>...</td>\n",
              "      <td>...</td>\n",
              "    </tr>\n",
              "    <tr>\n",
              "      <th>878044</th>\n",
              "      <td>2003-01-06 00:15:00</td>\n",
              "      <td>ROBBERY</td>\n",
              "      <td>ROBBERY ON THE STREET WITH A GUN</td>\n",
              "      <td>2</td>\n",
              "      <td>6</td>\n",
              "      <td>NONE</td>\n",
              "      <td>16120</td>\n",
              "      <td>-122.459033</td>\n",
              "      <td>37.714056</td>\n",
              "      <td>2003-01-06 00:15:00</td>\n",
              "      <td>0</td>\n",
              "      <td>1</td>\n",
              "    </tr>\n",
              "    <tr>\n",
              "      <th>878045</th>\n",
              "      <td>2003-01-06 00:01:00</td>\n",
              "      <td>LARCENY/THEFT</td>\n",
              "      <td>GRAND THEFT FROM LOCKED AUTO</td>\n",
              "      <td>2</td>\n",
              "      <td>2</td>\n",
              "      <td>NONE</td>\n",
              "      <td>13577</td>\n",
              "      <td>-122.447364</td>\n",
              "      <td>37.731948</td>\n",
              "      <td>2003-01-06 00:01:00</td>\n",
              "      <td>0</td>\n",
              "      <td>1</td>\n",
              "    </tr>\n",
              "    <tr>\n",
              "      <th>878046</th>\n",
              "      <td>2003-01-06 00:01:00</td>\n",
              "      <td>LARCENY/THEFT</td>\n",
              "      <td>GRAND THEFT FROM LOCKED AUTO</td>\n",
              "      <td>2</td>\n",
              "      <td>9</td>\n",
              "      <td>NONE</td>\n",
              "      <td>4417</td>\n",
              "      <td>-122.403390</td>\n",
              "      <td>37.780266</td>\n",
              "      <td>2003-01-06 00:01:00</td>\n",
              "      <td>0</td>\n",
              "      <td>1</td>\n",
              "    </tr>\n",
              "    <tr>\n",
              "      <th>878047</th>\n",
              "      <td>2003-01-06 00:01:00</td>\n",
              "      <td>VANDALISM</td>\n",
              "      <td>MALICIOUS MISCHIEF, VANDALISM OF VEHICLES</td>\n",
              "      <td>2</td>\n",
              "      <td>9</td>\n",
              "      <td>NONE</td>\n",
              "      <td>2093</td>\n",
              "      <td>-122.390531</td>\n",
              "      <td>37.780607</td>\n",
              "      <td>2003-01-06 00:01:00</td>\n",
              "      <td>0</td>\n",
              "      <td>1</td>\n",
              "    </tr>\n",
              "    <tr>\n",
              "      <th>878048</th>\n",
              "      <td>2003-01-06 00:01:00</td>\n",
              "      <td>FORGERY/COUNTERFEITING</td>\n",
              "      <td>CHECKS, FORGERY (FELONY)</td>\n",
              "      <td>2</td>\n",
              "      <td>3</td>\n",
              "      <td>NONE</td>\n",
              "      <td>22104</td>\n",
              "      <td>-122.394926</td>\n",
              "      <td>37.738212</td>\n",
              "      <td>2003-01-06 00:01:00</td>\n",
              "      <td>0</td>\n",
              "      <td>1</td>\n",
              "    </tr>\n",
              "  </tbody>\n",
              "</table>\n",
              "<p>878049 rows × 12 columns</p>\n",
              "</div>\n",
              "      <button class=\"colab-df-convert\" onclick=\"convertToInteractive('df-c76573da-e95d-45dd-9713-5dd8c90f2c21')\"\n",
              "              title=\"Convert this dataframe to an interactive table.\"\n",
              "              style=\"display:none;\">\n",
              "        \n",
              "  <svg xmlns=\"http://www.w3.org/2000/svg\" height=\"24px\"viewBox=\"0 0 24 24\"\n",
              "       width=\"24px\">\n",
              "    <path d=\"M0 0h24v24H0V0z\" fill=\"none\"/>\n",
              "    <path d=\"M18.56 5.44l.94 2.06.94-2.06 2.06-.94-2.06-.94-.94-2.06-.94 2.06-2.06.94zm-11 1L8.5 8.5l.94-2.06 2.06-.94-2.06-.94L8.5 2.5l-.94 2.06-2.06.94zm10 10l.94 2.06.94-2.06 2.06-.94-2.06-.94-.94-2.06-.94 2.06-2.06.94z\"/><path d=\"M17.41 7.96l-1.37-1.37c-.4-.4-.92-.59-1.43-.59-.52 0-1.04.2-1.43.59L10.3 9.45l-7.72 7.72c-.78.78-.78 2.05 0 2.83L4 21.41c.39.39.9.59 1.41.59.51 0 1.02-.2 1.41-.59l7.78-7.78 2.81-2.81c.8-.78.8-2.07 0-2.86zM5.41 20L4 18.59l7.72-7.72 1.47 1.35L5.41 20z\"/>\n",
              "  </svg>\n",
              "      </button>\n",
              "      \n",
              "  <style>\n",
              "    .colab-df-container {\n",
              "      display:flex;\n",
              "      flex-wrap:wrap;\n",
              "      gap: 12px;\n",
              "    }\n",
              "\n",
              "    .colab-df-convert {\n",
              "      background-color: #E8F0FE;\n",
              "      border: none;\n",
              "      border-radius: 50%;\n",
              "      cursor: pointer;\n",
              "      display: none;\n",
              "      fill: #1967D2;\n",
              "      height: 32px;\n",
              "      padding: 0 0 0 0;\n",
              "      width: 32px;\n",
              "    }\n",
              "\n",
              "    .colab-df-convert:hover {\n",
              "      background-color: #E2EBFA;\n",
              "      box-shadow: 0px 1px 2px rgba(60, 64, 67, 0.3), 0px 1px 3px 1px rgba(60, 64, 67, 0.15);\n",
              "      fill: #174EA6;\n",
              "    }\n",
              "\n",
              "    [theme=dark] .colab-df-convert {\n",
              "      background-color: #3B4455;\n",
              "      fill: #D2E3FC;\n",
              "    }\n",
              "\n",
              "    [theme=dark] .colab-df-convert:hover {\n",
              "      background-color: #434B5C;\n",
              "      box-shadow: 0px 1px 3px 1px rgba(0, 0, 0, 0.15);\n",
              "      filter: drop-shadow(0px 1px 2px rgba(0, 0, 0, 0.3));\n",
              "      fill: #FFFFFF;\n",
              "    }\n",
              "  </style>\n",
              "\n",
              "      <script>\n",
              "        const buttonEl =\n",
              "          document.querySelector('#df-c76573da-e95d-45dd-9713-5dd8c90f2c21 button.colab-df-convert');\n",
              "        buttonEl.style.display =\n",
              "          google.colab.kernel.accessAllowed ? 'block' : 'none';\n",
              "\n",
              "        async function convertToInteractive(key) {\n",
              "          const element = document.querySelector('#df-c76573da-e95d-45dd-9713-5dd8c90f2c21');\n",
              "          const dataTable =\n",
              "            await google.colab.kernel.invokeFunction('convertToInteractive',\n",
              "                                                     [key], {});\n",
              "          if (!dataTable) return;\n",
              "\n",
              "          const docLinkHtml = 'Like what you see? Visit the ' +\n",
              "            '<a target=\"_blank\" href=https://colab.research.google.com/notebooks/data_table.ipynb>data table notebook</a>'\n",
              "            + ' to learn more about interactive tables.';\n",
              "          element.innerHTML = '';\n",
              "          dataTable['output_type'] = 'display_data';\n",
              "          await google.colab.output.renderOutput(dataTable, element);\n",
              "          const docLink = document.createElement('div');\n",
              "          docLink.innerHTML = docLinkHtml;\n",
              "          element.appendChild(docLink);\n",
              "        }\n",
              "      </script>\n",
              "    </div>\n",
              "  </div>\n",
              "  "
            ]
          },
          "metadata": {},
          "execution_count": 39
        }
      ],
      "source": [
        "df"
      ]
    },
    {
      "cell_type": "code",
      "execution_count": 40,
      "id": "ff16862e",
      "metadata": {
        "id": "ff16862e"
      },
      "outputs": [],
      "source": [
        "train, test = train_test_split(df, \n",
        "                        test_size = 0.2, \n",
        "                        train_size = 0.8, \n",
        "                        random_state= 3)"
      ]
    },
    {
      "cell_type": "code",
      "execution_count": 41,
      "id": "5ac2b54d",
      "metadata": {
        "id": "5ac2b54d"
      },
      "outputs": [],
      "source": [
        "data_dict = {'WARRANTS': 1,\n",
        "             'OTHER OFFENSES': 0,\n",
        "             'LARCENY/THEFT': 1,\n",
        "             'VEHICLE THEFT': 1,\n",
        "             'VANDALISM': 1,\n",
        "             'NON-CRIMINAL': 0,\n",
        "             'ROBBERY': 1,\n",
        "             'ASSAULT': 1,\n",
        "             'WEAPON LAWS': 1,\n",
        "             'BURGLARY': 1,\n",
        "             'SUSPICIOUS OCC': 0,\n",
        "             'DRUNKENNESS': 0,\n",
        "             'FORGERY/COUNTERFEITING': 1,\n",
        "             'DRUG/NARCOTIC': 1,\n",
        "             'STOLEN PROPERTY': 1,\n",
        "             'SECONDARY CODES': 0,\n",
        "             'TRESPASS': 0,\n",
        "             'MISSING PERSON': 1,\n",
        "             'FRAUD': 1,\n",
        "             'KIDNAPPING': 1,\n",
        "             'RUNAWAY': 0,\n",
        "             'DRIVING UNDER THE INFLUENCE': 0,\n",
        "             'SEX OFFENSES FORCIBLE': 1,\n",
        "             'PROSTITUTION': 0,\n",
        "             'DISORDERLY CONDUCT': 0,\n",
        "             'ARSON': 1,\n",
        "             'FAMILY OFFENSES': 1,\n",
        "             'LIQUOR LAWS': 0,\n",
        "             'BRIBERY': 1,\n",
        "             'EMBEZZLEMENT': 0,\n",
        "             'SUICIDE': 1,\n",
        "             'LOITERING': 0,\n",
        "             'SEX OFFENSES NON FORCIBLE': 0,\n",
        "             'EXTORTION': 1,\n",
        "             'GAMBLING': 0,\n",
        "             'BAD CHECKS': 0,\n",
        "             'TREA': 0,\n",
        "             'RECOVERED VEHICLE': 0,\n",
        "             'PORNOGRAPHY/OBSCENE MAT': 0}"
      ]
    },
    {
      "cell_type": "code",
      "execution_count": 42,
      "id": "3d9f9976",
      "metadata": {
        "id": "3d9f9976"
      },
      "outputs": [],
      "source": [
        "train[\"Category\"] = train[\"Category\"].replace(data_dict)\n",
        "test[\"Category\"] = test[\"Category\"].replace(data_dict)"
      ]
    },
    {
      "cell_type": "code",
      "execution_count": 43,
      "id": "d2e869a6",
      "metadata": {
        "id": "d2e869a6"
      },
      "outputs": [],
      "source": [
        "features = [\"DayOfWeek\", \"X\", \"Y\", \"PdDistrict\"]\n",
        "X_train = train[features]\n",
        "y_train = train[\"Category\"]\n",
        "X_test = test[features]\n",
        "y_test = test[\"Category\"]\n",
        "\n",
        "knn = KNeighborsClassifier()\n",
        "# knn.fit(X_train, y_train)\n",
        "\n",
        "# predictions = knn.predict(X_test)\n",
        "\n",
        "# knn.score(X_train,y_train)  "
      ]
    },
    {
      "cell_type": "code",
      "execution_count": 44,
      "id": "ca00bb77",
      "metadata": {
        "colab": {
          "base_uri": "https://localhost:8080/"
        },
        "id": "ca00bb77",
        "outputId": "6bcdaa56-1320-448c-97b9-b091551275fa"
      },
      "outputs": [
        {
          "output_type": "stream",
          "name": "stdout",
          "text": [
            "Fitting 10 folds for each of 9 candidates, totalling 90 fits\n"
          ]
        }
      ],
      "source": [
        "k_range = list(range(1, 10))\n",
        "param_grid = dict(n_neighbors=k_range)\n",
        "\n",
        "\n",
        "# defining parameter range\n",
        "grid = GridSearchCV(knn, param_grid, cv=10, scoring='accuracy', return_train_score=False,verbose=1)\n",
        "\n",
        "# fitting the model for grid search\n",
        "grid_search=grid.fit(X_train, y_train)"
      ]
    },
    {
      "cell_type": "code",
      "execution_count": 45,
      "id": "93b2e86f",
      "metadata": {
        "colab": {
          "base_uri": "https://localhost:8080/"
        },
        "id": "93b2e86f",
        "outputId": "dd827b92-7e37-4c8b-8bc2-6db402326f25"
      },
      "outputs": [
        {
          "output_type": "stream",
          "name": "stdout",
          "text": [
            "{'n_neighbors': 9}\n",
            "Accuracy for our training dataset with tuning is : 64.22%\n"
          ]
        }
      ],
      "source": [
        "print(grid_search.best_params_)\n",
        "\n",
        "accuracy = grid_search.best_score_ *100\n",
        "print(\"Accuracy for our training dataset with tuning is : {:.2f}%\".format(accuracy) )"
      ]
    },
    {
      "cell_type": "code",
      "source": [
        "knn = KNeighborsClassifier(n_neighbors=9)\n",
        "knn.fit(X_train, y_train)\n",
        "\n",
        "predictions = knn.predict(X_test)\n",
        "\n",
        "knn.score(X_train,y_train)"
      ],
      "metadata": {
        "colab": {
          "base_uri": "https://localhost:8080/"
        },
        "id": "J5PovX1hDcq0",
        "outputId": "0a517777-79ff-41bc-851f-b2b70b762017"
      },
      "id": "J5PovX1hDcq0",
      "execution_count": 46,
      "outputs": [
        {
          "output_type": "execute_result",
          "data": {
            "text/plain": [
              "0.6882690169537853"
            ]
          },
          "metadata": {},
          "execution_count": 46
        }
      ]
    },
    {
      "cell_type": "code",
      "source": [
        "ac_sc = accuracy_score(y_test, predictions)\n",
        "rc_sc = recall_score(y_test, predictions, average=\"weighted\")\n",
        "pr_sc = precision_score(y_test, predictions, average=\"weighted\")\n",
        "f1_sc = f1_score(y_test, predictions, average='weighted')\n",
        "confusion_m = confusion_matrix(y_test, predictions)\n",
        "\n",
        "print(\"Accuracy    : \", ac_sc)\n",
        "print(\"Recall      : \", rc_sc)\n",
        "print(\"Precision   : \", pr_sc)\n",
        "print(\"F1 Score    : \", f1_sc)\n",
        "print(\"Confusion Matrix: \")\n",
        "print(confusion_m)"
      ],
      "metadata": {
        "colab": {
          "base_uri": "https://localhost:8080/"
        },
        "id": "klFxwi3OHXIU",
        "outputId": "a06382c9-e5e4-488a-df13-142549b888f7"
      },
      "id": "klFxwi3OHXIU",
      "execution_count": 47,
      "outputs": [
        {
          "output_type": "stream",
          "name": "stdout",
          "text": [
            "Accuracy    :  0.6452195205284437\n",
            "Recall      :  0.6452195205284437\n",
            "Precision   :  0.6109344824020061\n",
            "F1 Score    :  0.6145296529746627\n",
            "Confusion Matrix: \n",
            "[[15324 43713]\n",
            " [18590 97983]]\n"
          ]
        }
      ]
    },
    {
      "cell_type": "code",
      "execution_count": 48,
      "id": "8a6358b2",
      "metadata": {
        "colab": {
          "base_uri": "https://localhost:8080/"
        },
        "id": "8a6358b2",
        "outputId": "a93f64dd-a373-41d9-907a-e3291b464e4e"
      },
      "outputs": [
        {
          "output_type": "stream",
          "name": "stdout",
          "text": [
            "              precision    recall  f1-score   support\n",
            "\n",
            "           0       0.45      0.26      0.33     59037\n",
            "           1       0.69      0.84      0.76    116573\n",
            "\n",
            "    accuracy                           0.65    175610\n",
            "   macro avg       0.57      0.55      0.54    175610\n",
            "weighted avg       0.61      0.65      0.61    175610\n",
            "\n"
          ]
        }
      ],
      "source": [
        "print(classification_report(y_test, predictions))"
      ]
    },
    {
      "cell_type": "code",
      "source": [
        "knn_visualizer = KNeighborsClassifier(n_neighbors=9)\n",
        "\n",
        "visualizer = ClassificationReport(knn_visualizer)\n",
        "visualizer.fit(X_train, y_train)     # Fit the training data to the visualizer\n",
        "visualizer.score(X_test,y_test)       # Evaluate the model on the test data\n",
        "\n",
        "visualizer.show()"
      ],
      "metadata": {
        "colab": {
          "base_uri": "https://localhost:8080/",
          "height": 418
        },
        "id": "ZqNtSYz9HTti",
        "outputId": "1d25a966-abea-4002-8c7e-33f79c2d1505"
      },
      "id": "ZqNtSYz9HTti",
      "execution_count": 49,
      "outputs": [
        {
          "output_type": "display_data",
          "data": {
            "text/plain": [
              "<Figure size 576x396 with 2 Axes>"
            ],
            "image/png": "[encoded data removed]"
          },
          "metadata": {}
        },
        {
          "output_type": "execute_result",
          "data": {
            "text/plain": [
              "<matplotlib.axes._subplots.AxesSubplot at 0x7f71e66ab5e0>"
            ]
          },
          "metadata": {},
          "execution_count": 49
        }
      ]
    },
    {
      "cell_type": "code",
      "source": [
        "features = [\"DayOfWeek\", \"X\", \"Y\", \"PdDistrict\", \"Hour\", \"Month\"]\n",
        "X_train = train[features]\n",
        "y_train = train[\"Category\"]\n",
        "X_test = test[features]\n",
        "y_test = test[\"Category\"]\n",
        "\n",
        "knn = KNeighborsClassifier()\n",
        "# knn.fit(X_train, y_train)\n",
        "\n",
        "# predictions = knn.predict(X_test)\n",
        "\n",
        "# knn.score(X_train,y_train)  "
      ],
      "metadata": {
        "id": "d-qnl7uDHT9w"
      },
      "id": "d-qnl7uDHT9w",
      "execution_count": 50,
      "outputs": []
    },
    {
      "cell_type": "code",
      "source": [
        "k_range = list(range(1, 10))\n",
        "param_grid = dict(n_neighbors=k_range)\n",
        "\n",
        "\n",
        "# defining parameter range\n",
        "grid = GridSearchCV(knn, param_grid, cv=10, scoring='accuracy', return_train_score=False,verbose=1)\n",
        "\n",
        "# fitting the model for grid search\n",
        "grid_search=grid.fit(X_train, y_train)"
      ],
      "metadata": {
        "colab": {
          "base_uri": "https://localhost:8080/"
        },
        "id": "GSAu3seUHULM",
        "outputId": "155e6405-0d78-43cb-c4a1-ca6911ca902c"
      },
      "id": "GSAu3seUHULM",
      "execution_count": 51,
      "outputs": [
        {
          "output_type": "stream",
          "name": "stdout",
          "text": [
            "Fitting 10 folds for each of 9 candidates, totalling 90 fits\n"
          ]
        }
      ]
    },
    {
      "cell_type": "code",
      "source": [
        "print(grid_search.best_params_)\n",
        "\n",
        "accuracy = grid_search.best_score_ *100\n",
        "print(\"Accuracy for our training dataset with tuning is : {:.2f}%\".format(accuracy) )"
      ],
      "metadata": {
        "colab": {
          "base_uri": "https://localhost:8080/"
        },
        "id": "eZfwaKI3I591",
        "outputId": "d09b48ff-b70d-4f94-91c0-4283370cb638"
      },
      "id": "eZfwaKI3I591",
      "execution_count": 52,
      "outputs": [
        {
          "output_type": "stream",
          "name": "stdout",
          "text": [
            "{'n_neighbors': 9}\n",
            "Accuracy for our training dataset with tuning is : 62.34%\n"
          ]
        }
      ]
    },
    {
      "cell_type": "code",
      "source": [
        "knn = KNeighborsClassifier(n_neighbors=9)\n",
        "knn.fit(X_train, y_train)\n",
        "\n",
        "predictions = knn.predict(X_test)\n",
        "\n",
        "knn.score(X_train,y_train)"
      ],
      "metadata": {
        "colab": {
          "base_uri": "https://localhost:8080/"
        },
        "id": "S9_Rs3kcI6Ik",
        "outputId": "400b73ce-f3ab-4d1d-b6cc-675631e4b364"
      },
      "id": "S9_Rs3kcI6Ik",
      "execution_count": 53,
      "outputs": [
        {
          "output_type": "execute_result",
          "data": {
            "text/plain": [
              "0.7021776979922811"
            ]
          },
          "metadata": {},
          "execution_count": 53
        }
      ]
    },
    {
      "cell_type": "code",
      "source": [
        "ac_sc = accuracy_score(y_test, predictions)\n",
        "rc_sc = recall_score(y_test, predictions, average=\"weighted\")\n",
        "pr_sc = precision_score(y_test, predictions, average=\"weighted\")\n",
        "f1_sc = f1_score(y_test, predictions, average='weighted')\n",
        "confusion_m = confusion_matrix(y_test, predictions)\n",
        "\n",
        "print(\"Accuracy    : \", ac_sc)\n",
        "print(\"Recall      : \", rc_sc)\n",
        "print(\"Precision   : \", pr_sc)\n",
        "print(\"F1 Score    : \", f1_sc)\n",
        "print(\"Confusion Matrix: \")\n",
        "print(confusion_m)"
      ],
      "metadata": {
        "colab": {
          "base_uri": "https://localhost:8080/"
        },
        "id": "-oS0wrmbI6Rm",
        "outputId": "74d72d33-c861-4d4f-c80a-5dcbadea356f"
      },
      "id": "-oS0wrmbI6Rm",
      "execution_count": 54,
      "outputs": [
        {
          "output_type": "stream",
          "name": "stdout",
          "text": [
            "Accuracy    :  0.6260178805307215\n",
            "Recall      :  0.6260178805307215\n",
            "Precision   :  0.58308217104738\n",
            "F1 Score    :  0.5902492539279149\n",
            "Confusion Matrix: \n",
            "[[12764 46273]\n",
            " [19402 97171]]\n"
          ]
        }
      ]
    },
    {
      "cell_type": "code",
      "source": [
        "print(classification_report(y_test, predictions))"
      ],
      "metadata": {
        "colab": {
          "base_uri": "https://localhost:8080/"
        },
        "id": "YRX5YMz9I6YF",
        "outputId": "7f9aa17c-fcca-4987-e048-427d37545f77"
      },
      "id": "YRX5YMz9I6YF",
      "execution_count": 55,
      "outputs": [
        {
          "output_type": "stream",
          "name": "stdout",
          "text": [
            "              precision    recall  f1-score   support\n",
            "\n",
            "           0       0.40      0.22      0.28     59037\n",
            "           1       0.68      0.83      0.75    116573\n",
            "\n",
            "    accuracy                           0.63    175610\n",
            "   macro avg       0.54      0.52      0.51    175610\n",
            "weighted avg       0.58      0.63      0.59    175610\n",
            "\n"
          ]
        }
      ]
    },
    {
      "cell_type": "code",
      "execution_count": 56,
      "id": "359a4fd6",
      "metadata": {
        "id": "359a4fd6"
      },
      "outputs": [],
      "source": [
        "features = [\"DayOfWeek\", \"X\", \"Y\", \"PdDistrict\"]\n",
        "X_train = train[features]\n",
        "y_train = train[\"Category\"]\n",
        "X_test = test[features]\n",
        "y_test = test[\"Category\"]\n",
        "\n",
        "rf=RandomForestClassifier()\n",
        "# rf.fit(X_train,y_train)\n",
        "\n",
        "# predictions=rf.predict(X_test)\n",
        "\n",
        "# rf.score(X_train,y_train) "
      ]
    },
    {
      "cell_type": "code",
      "source": [
        "n_estimators_range = [50, 100, 150]\n",
        "param_grid = dict(n_estimators=n_estimators_range)\n",
        "\n",
        "\n",
        "# defining parameter range\n",
        "grid = GridSearchCV(rf, param_grid, cv=10, scoring='accuracy', return_train_score=False,verbose=1)\n",
        "\n",
        "# fitting the model for grid search\n",
        "grid_search=grid.fit(X_train, y_train)"
      ],
      "metadata": {
        "colab": {
          "base_uri": "https://localhost:8080/"
        },
        "id": "OfkXzgyiPukU",
        "outputId": "04d2dfb6-47a8-491b-a76d-e306bedf07f9"
      },
      "id": "OfkXzgyiPukU",
      "execution_count": 58,
      "outputs": [
        {
          "output_type": "stream",
          "name": "stdout",
          "text": [
            "Fitting 10 folds for each of 3 candidates, totalling 30 fits\n"
          ]
        }
      ]
    },
    {
      "cell_type": "code",
      "source": [
        "print(grid_search.best_params_)\n",
        "\n",
        "accuracy = grid_search.best_score_ *100\n",
        "print(\"Accuracy for our training dataset with tuning is : {:.2f}%\".format(accuracy) )"
      ],
      "metadata": {
        "colab": {
          "base_uri": "https://localhost:8080/"
        },
        "id": "zkE19VJFPuyp",
        "outputId": "d29df6ba-0831-48e3-ad39-ad9cc3007773"
      },
      "id": "zkE19VJFPuyp",
      "execution_count": 59,
      "outputs": [
        {
          "output_type": "stream",
          "name": "stdout",
          "text": [
            "{'n_estimators': 150}\n",
            "Accuracy for our training dataset with tuning is : 64.99%\n"
          ]
        }
      ]
    },
    {
      "cell_type": "code",
      "source": [
        "rf=RandomForestClassifier(n_estimators=150)\n",
        "rf.fit(X_train,y_train)\n",
        "\n",
        "predictions=rf.predict(X_test)\n",
        "\n",
        "rf.score(X_train,y_train)"
      ],
      "metadata": {
        "colab": {
          "base_uri": "https://localhost:8080/"
        },
        "id": "FvjBnwQpRQ9j",
        "outputId": "a2e5043c-112c-4b96-9e17-43500439f20e"
      },
      "id": "FvjBnwQpRQ9j",
      "execution_count": 60,
      "outputs": [
        {
          "output_type": "execute_result",
          "data": {
            "text/plain": [
              "0.7318486018002986"
            ]
          },
          "metadata": {},
          "execution_count": 60
        }
      ]
    },
    {
      "cell_type": "code",
      "source": [
        "ac_sc = accuracy_score(y_test, predictions)\n",
        "rc_sc = recall_score(y_test, predictions, average=\"weighted\")\n",
        "pr_sc = precision_score(y_test, predictions, average=\"weighted\")\n",
        "f1_sc = f1_score(y_test, predictions, average='weighted')\n",
        "confusion_m = confusion_matrix(y_test, predictions)\n",
        "\n",
        "print(\"Accuracy    : \", ac_sc)\n",
        "print(\"Recall      : \", rc_sc)\n",
        "print(\"Precision   : \", pr_sc)\n",
        "print(\"F1 Score    : \", f1_sc)\n",
        "print(\"Confusion Matrix: \")\n",
        "print(confusion_m)"
      ],
      "metadata": {
        "colab": {
          "base_uri": "https://localhost:8080/"
        },
        "id": "rpeNMDp6PvDi",
        "outputId": "450d7ca0-e735-4819-fe40-7b9b243ff67a"
      },
      "id": "rpeNMDp6PvDi",
      "execution_count": 61,
      "outputs": [
        {
          "output_type": "stream",
          "name": "stdout",
          "text": [
            "Accuracy    :  0.6525254826034964\n",
            "Recall      :  0.6525254826034964\n",
            "Precision   :  0.6177606762953993\n",
            "F1 Score    :  0.6186482401439491\n",
            "Confusion Matrix: \n",
            "[[14920 44117]\n",
            " [16903 99670]]\n"
          ]
        }
      ]
    },
    {
      "cell_type": "code",
      "source": [
        "print(classification_report(y_test, predictions))"
      ],
      "metadata": {
        "colab": {
          "base_uri": "https://localhost:8080/"
        },
        "id": "B6PX1RDnPvR2",
        "outputId": "dc32881f-b3b6-4b0d-a91a-6947ba66e39e"
      },
      "id": "B6PX1RDnPvR2",
      "execution_count": 62,
      "outputs": [
        {
          "output_type": "stream",
          "name": "stdout",
          "text": [
            "              precision    recall  f1-score   support\n",
            "\n",
            "           0       0.47      0.25      0.33     59037\n",
            "           1       0.69      0.86      0.77    116573\n",
            "\n",
            "    accuracy                           0.65    175610\n",
            "   macro avg       0.58      0.55      0.55    175610\n",
            "weighted avg       0.62      0.65      0.62    175610\n",
            "\n"
          ]
        }
      ]
    },
    {
      "cell_type": "code",
      "source": [
        "features = [\"DayOfWeek\", \"X\", \"Y\", \"PdDistrict\", \"Hour\", \"Month\"]\n",
        "X_train = train[features]\n",
        "y_train = train[\"Category\"]\n",
        "X_test = test[features]\n",
        "y_test = test[\"Category\"]\n",
        "\n",
        "rf=RandomForestClassifier()\n",
        "# rf.fit(X_train,y_train)\n",
        "\n",
        "# predictions=rf.predict(X_test) \n",
        "\n",
        "# rf.score(X_train,y_train)     "
      ],
      "metadata": {
        "id": "klWJ5aS3PvbB"
      },
      "id": "klWJ5aS3PvbB",
      "execution_count": 63,
      "outputs": []
    },
    {
      "cell_type": "code",
      "source": [
        "n_estimators_range = [50, 100, 150]\n",
        "param_grid = dict(n_estimators=n_estimators_range)\n",
        "\n",
        "\n",
        "# defining parameter range\n",
        "grid = GridSearchCV(rf, param_grid, cv=5, scoring='accuracy', return_train_score=False,verbose=1)\n",
        "\n",
        "# fitting the model for grid search\n",
        "grid_search=grid.fit(X_train, y_train)"
      ],
      "metadata": {
        "colab": {
          "base_uri": "https://localhost:8080/"
        },
        "id": "hNNv_d5nRqI8",
        "outputId": "3d406e61-1d24-4525-8058-6d5779dd4b6f"
      },
      "id": "hNNv_d5nRqI8",
      "execution_count": 64,
      "outputs": [
        {
          "output_type": "stream",
          "name": "stdout",
          "text": [
            "Fitting 5 folds for each of 3 candidates, totalling 15 fits\n"
          ]
        }
      ]
    },
    {
      "cell_type": "code",
      "source": [
        "print(grid_search.best_params_)\n",
        "\n",
        "accuracy = grid_search.best_score_ *100\n",
        "print(\"Accuracy for our training dataset with tuning is : {:.2f}%\".format(accuracy) )"
      ],
      "metadata": {
        "colab": {
          "base_uri": "https://localhost:8080/"
        },
        "id": "Oe5tavfLRqZ5",
        "outputId": "086a96d2-cdda-44d5-df34-6d12abde2903"
      },
      "id": "Oe5tavfLRqZ5",
      "execution_count": 65,
      "outputs": [
        {
          "output_type": "stream",
          "name": "stdout",
          "text": [
            "{'n_estimators': 150}\n",
            "Accuracy for our training dataset with tuning is : 64.45%\n"
          ]
        }
      ]
    },
    {
      "cell_type": "code",
      "source": [
        "rf=RandomForestClassifier(n_estimators=150)\n",
        "rf.fit(X_train,y_train)\n",
        "\n",
        "predictions=rf.predict(X_test)\n",
        "\n",
        "rf.score(X_train,y_train)"
      ],
      "metadata": {
        "colab": {
          "base_uri": "https://localhost:8080/"
        },
        "id": "TgU0KqQlRqdQ",
        "outputId": "d5facfbc-b491-4ca0-e5ea-27e54f9364a4"
      },
      "id": "TgU0KqQlRqdQ",
      "execution_count": 67,
      "outputs": [
        {
          "output_type": "execute_result",
          "data": {
            "text/plain": [
              "0.9148566637103008"
            ]
          },
          "metadata": {},
          "execution_count": 67
        }
      ]
    },
    {
      "cell_type": "code",
      "source": [
        "ac_sc = accuracy_score(y_test, predictions)\n",
        "rc_sc = recall_score(y_test, predictions, average=\"weighted\")\n",
        "pr_sc = precision_score(y_test, predictions, average=\"weighted\")\n",
        "f1_sc = f1_score(y_test, predictions, average='weighted')\n",
        "confusion_m = confusion_matrix(y_test, predictions)\n",
        "\n",
        "print(\"Accuracy    : \", ac_sc)\n",
        "print(\"Recall      : \", rc_sc)\n",
        "print(\"Precision   : \", pr_sc)\n",
        "print(\"F1 Score    : \", f1_sc)\n",
        "print(\"Confusion Matrix: \")\n",
        "print(confusion_m)"
      ],
      "metadata": {
        "colab": {
          "base_uri": "https://localhost:8080/"
        },
        "id": "V7IMJc59RqgM",
        "outputId": "07417738-ebbd-424c-9bfe-742ca628fcd6"
      },
      "id": "V7IMJc59RqgM",
      "execution_count": 68,
      "outputs": [
        {
          "output_type": "stream",
          "name": "stdout",
          "text": [
            "Accuracy    :  0.6481863219634417\n",
            "Recall      :  0.6481863219634417\n",
            "Precision   :  0.6205085807170527\n",
            "F1 Score    :  0.6252167778988994\n",
            "Confusion Matrix: \n",
            "[[17822 41215]\n",
            " [20567 96006]]\n"
          ]
        }
      ]
    },
    {
      "cell_type": "code",
      "source": [
        "print(classification_report(y_test, predictions))"
      ],
      "metadata": {
        "colab": {
          "base_uri": "https://localhost:8080/"
        },
        "id": "MYGfFFxBSPcK",
        "outputId": "fe04e1a7-14eb-4797-c77f-7140f8dabfa1"
      },
      "id": "MYGfFFxBSPcK",
      "execution_count": 69,
      "outputs": [
        {
          "output_type": "stream",
          "name": "stdout",
          "text": [
            "              precision    recall  f1-score   support\n",
            "\n",
            "           0       0.46      0.30      0.37     59037\n",
            "           1       0.70      0.82      0.76    116573\n",
            "\n",
            "    accuracy                           0.65    175610\n",
            "   macro avg       0.58      0.56      0.56    175610\n",
            "weighted avg       0.62      0.65      0.63    175610\n",
            "\n"
          ]
        }
      ]
    },
    {
      "cell_type": "code",
      "execution_count": 70,
      "id": "72d32752",
      "metadata": {
        "id": "72d32752"
      },
      "outputs": [],
      "source": [
        "# xgb = XGBClassifier()\n",
        "# xgb.fit(X_train, y_train)\n",
        "\n",
        "# predictions = xgb.predict(X_test)\n",
        "\n",
        "# xgb.score(X_train,y_train)"
      ]
    },
    {
      "cell_type": "code",
      "execution_count": 71,
      "id": "d03a8f28",
      "metadata": {
        "id": "d03a8f28"
      },
      "outputs": [],
      "source": [
        "# print(classification_report(y_test, predictions))"
      ]
    },
    {
      "cell_type": "code",
      "execution_count": null,
      "id": "611a0741",
      "metadata": {
        "id": "611a0741"
      },
      "outputs": [],
      "source": []
    },
    {
      "cell_type": "code",
      "execution_count": null,
      "id": "d51d0632",
      "metadata": {
        "id": "d51d0632"
      },
      "outputs": [],
      "source": []
    },
    {
      "cell_type": "code",
      "execution_count": null,
      "id": "67881f67",
      "metadata": {
        "id": "67881f67"
      },
      "outputs": [],
      "source": []
    },
    {
      "cell_type": "code",
      "execution_count": null,
      "id": "ac9b50ed",
      "metadata": {
        "id": "ac9b50ed"
      },
      "outputs": [],
      "source": []
    },
    {
      "cell_type": "code",
      "execution_count": null,
      "id": "afd54b88",
      "metadata": {
        "id": "afd54b88"
      },
      "outputs": [],
      "source": []
    },
    {
      "cell_type": "code",
      "execution_count": null,
      "id": "c1dcacd5",
      "metadata": {
        "id": "c1dcacd5"
      },
      "outputs": [],
      "source": []
    },
    {
      "cell_type": "code",
      "execution_count": null,
      "id": "b4c6e945",
      "metadata": {
        "id": "b4c6e945"
      },
      "outputs": [],
      "source": []
    },
    {
      "cell_type": "code",
      "execution_count": null,
      "id": "4611a6fc",
      "metadata": {
        "id": "4611a6fc"
      },
      "outputs": [],
      "source": []
    },
    {
      "cell_type": "code",
      "execution_count": null,
      "id": "91da00c4",
      "metadata": {
        "id": "91da00c4"
      },
      "outputs": [],
      "source": []
    },
    {
      "cell_type": "code",
      "execution_count": null,
      "id": "92dce9ff",
      "metadata": {
        "id": "92dce9ff"
      },
      "outputs": [],
      "source": []
    },
    {
      "cell_type": "code",
      "execution_count": null,
      "id": "99479b2d",
      "metadata": {
        "id": "99479b2d"
      },
      "outputs": [],
      "source": []
    },
    {
      "cell_type": "code",
      "execution_count": null,
      "id": "f2493c01",
      "metadata": {
        "id": "f2493c01"
      },
      "outputs": [],
      "source": []
    },
    {
      "cell_type": "code",
      "execution_count": null,
      "id": "80791a6d",
      "metadata": {
        "id": "80791a6d"
      },
      "outputs": [],
      "source": []
    },
    {
      "cell_type": "code",
      "execution_count": null,
      "id": "3dcc3a60",
      "metadata": {
        "id": "3dcc3a60"
      },
      "outputs": [],
      "source": []
    },
    {
      "cell_type": "code",
      "execution_count": null,
      "id": "93eb0550",
      "metadata": {
        "id": "93eb0550"
      },
      "outputs": [],
      "source": []
    },
    {
      "cell_type": "code",
      "execution_count": null,
      "id": "a1717b44",
      "metadata": {
        "id": "a1717b44"
      },
      "outputs": [],
      "source": []
    },
    {
      "cell_type": "code",
      "execution_count": null,
      "id": "73cf5d4d",
      "metadata": {
        "id": "73cf5d4d"
      },
      "outputs": [],
      "source": []
    },
    {
      "cell_type": "code",
      "execution_count": null,
      "id": "4702ec22",
      "metadata": {
        "id": "4702ec22"
      },
      "outputs": [],
      "source": []
    },
    {
      "cell_type": "code",
      "execution_count": null,
      "id": "78c1d6ca",
      "metadata": {
        "id": "78c1d6ca"
      },
      "outputs": [],
      "source": []
    },
    {
      "cell_type": "code",
      "execution_count": null,
      "id": "6506dd5d",
      "metadata": {
        "id": "6506dd5d"
      },
      "outputs": [],
      "source": []
    },
    {
      "cell_type": "code",
      "execution_count": null,
      "id": "6747e64c",
      "metadata": {
        "id": "6747e64c"
      },
      "outputs": [],
      "source": []
    },
    {
      "cell_type": "code",
      "execution_count": null,
      "id": "420060c6",
      "metadata": {
        "id": "420060c6"
      },
      "outputs": [],
      "source": []
    },
    {
      "cell_type": "code",
      "execution_count": null,
      "id": "3fb929b8",
      "metadata": {
        "id": "3fb929b8"
      },
      "outputs": [],
      "source": []
    },
    {
      "cell_type": "code",
      "execution_count": null,
      "id": "158dc69a",
      "metadata": {
        "id": "158dc69a"
      },
      "outputs": [],
      "source": []
    },
    {
      "cell_type": "code",
      "execution_count": null,
      "id": "7bea052d",
      "metadata": {
        "id": "7bea052d"
      },
      "outputs": [],
      "source": []
    },
    {
      "cell_type": "code",
      "execution_count": null,
      "id": "615541d1",
      "metadata": {
        "id": "615541d1"
      },
      "outputs": [],
      "source": []
    }
  ],
  "metadata": {
    "kernelspec": {
      "display_name": "Python 3 (ipykernel)",
      "language": "python",
      "name": "python3"
    },
    "language_info": {
      "codemirror_mode": {
        "name": "ipython",
        "version": 3
      },
      "file_extension": ".py",
      "mimetype": "text/x-python",
      "name": "python",
      "nbconvert_exporter": "python",
      "pygments_lexer": "ipython3",
      "version": "3.10.6"
    },
    "colab": {
      "provenance": []
    }
  },
  "nbformat": 4,
  "nbformat_minor": 5
}